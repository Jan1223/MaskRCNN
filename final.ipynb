{
  "cells": [
    {
      "cell_type": "markdown",
      "metadata": {
        "id": "view-in-github",
        "colab_type": "text"
      },
      "source": [
        "<a href=\"https://colab.research.google.com/github/Jan1223/MaskRCNN/blob/main/final.ipynb\" target=\"_parent\"><img src=\"https://colab.research.google.com/assets/colab-badge.svg\" alt=\"Open In Colab\"/></a>"
      ]
    },
    {
      "cell_type": "markdown",
      "metadata": {
        "id": "0fm1CM0Oml4O"
      },
      "source": [
        "# Mask R-CNN Demo\n",
        "\n",
        "A quick intro to using the pre-trained model to detect and segment objects."
      ]
    },
    {
      "cell_type": "code",
      "source": [
        "import tensorflow as tf\n",
        "\n",
        "# Enable eager execution\n",
        "tf.compat.v1.enable_eager_execution()\n",
        "\n",
        "# Check if eager execution is enabled\n",
        "print(\"Eager execution enabled:\", tf.executing_eagerly())\n"
      ],
      "metadata": {
        "colab": {
          "base_uri": "https://localhost:8080/"
        },
        "id": "LTp-9ubepfKV",
        "outputId": "1a800ee1-66e0-4031-e0b7-f94497c593e4"
      },
      "execution_count": 1,
      "outputs": [
        {
          "output_type": "stream",
          "name": "stdout",
          "text": [
            "Eager execution enabled: True\n"
          ]
        }
      ]
    },
    {
      "cell_type": "code",
      "source": [
        "#!pip uninstall jax jaxlib -y\n",
        "\n",
        "#!pip install jax==0.3.25 jaxlib==0.3.25\n"
      ],
      "metadata": {
        "colab": {
          "base_uri": "https://localhost:8080/"
        },
        "id": "a4fAAbeiuGoa",
        "outputId": "fd06c1f2-c083-4eda-f899-7c6d37919fff"
      },
      "execution_count": 2,
      "outputs": [
        {
          "output_type": "stream",
          "name": "stdout",
          "text": [
            "Found existing installation: jax 0.3.25\n",
            "Uninstalling jax-0.3.25:\n",
            "  Successfully uninstalled jax-0.3.25\n",
            "Found existing installation: jaxlib 0.5.1\n",
            "Uninstalling jaxlib-0.5.1:\n",
            "  Successfully uninstalled jaxlib-0.5.1\n",
            "Collecting jax==0.3.25\n",
            "  Using cached jax-0.3.25-py3-none-any.whl\n",
            "\u001b[31mERROR: Ignored the following yanked versions: 0.4.32\u001b[0m\u001b[31m\n",
            "\u001b[0m\u001b[31mERROR: Could not find a version that satisfies the requirement jaxlib==0.3.25 (from versions: 0.4.6, 0.4.7, 0.4.9, 0.4.10, 0.4.11, 0.4.12, 0.4.13, 0.4.14, 0.4.16, 0.4.17, 0.4.18, 0.4.19, 0.4.20, 0.4.21, 0.4.22, 0.4.23, 0.4.24, 0.4.25, 0.4.26, 0.4.27, 0.4.28, 0.4.29, 0.4.30, 0.4.31, 0.4.33, 0.4.34, 0.4.35, 0.4.36, 0.4.38, 0.5.0, 0.5.1, 0.5.3)\u001b[0m\u001b[31m\n",
            "\u001b[0m\u001b[31mERROR: No matching distribution found for jaxlib==0.3.25\u001b[0m\u001b[31m\n",
            "\u001b[0m"
          ]
        }
      ]
    },
    {
      "cell_type": "code",
      "source": [
        "#!pip install numpy==1.23.5\n",
        "#!pip install --upgrade tensorflow\n",
        "#!pip install jax==0.3.25\n"
      ],
      "metadata": {
        "colab": {
          "base_uri": "https://localhost:8080/",
          "height": 1000
        },
        "id": "-YQhO9ogtCH6",
        "outputId": "6e3340ef-dbec-4740-eff6-a2ca8ee1b7fe"
      },
      "execution_count": 7,
      "outputs": [
        {
          "output_type": "stream",
          "name": "stdout",
          "text": [
            "Collecting numpy==1.23.5\n",
            "  Using cached numpy-1.23.5-cp311-cp311-manylinux_2_17_x86_64.manylinux2014_x86_64.whl.metadata (2.3 kB)\n",
            "Using cached numpy-1.23.5-cp311-cp311-manylinux_2_17_x86_64.manylinux2014_x86_64.whl (17.1 MB)\n",
            "Installing collected packages: numpy\n",
            "  Attempting uninstall: numpy\n",
            "    Found existing installation: numpy 2.1.3\n",
            "    Uninstalling numpy-2.1.3:\n",
            "      Successfully uninstalled numpy-2.1.3\n",
            "\u001b[31mERROR: pip's dependency resolver does not currently take into account all the packages that are installed. This behaviour is the source of the following dependency conflicts.\n",
            "tensorflow 2.19.0 requires numpy<2.2.0,>=1.26.0, but you have numpy 1.23.5 which is incompatible.\n",
            "jaxlib 0.5.1 requires numpy>=1.25, but you have numpy 1.23.5 which is incompatible.\n",
            "tf-keras 2.18.0 requires tensorflow<2.19,>=2.18, but you have tensorflow 2.19.0 which is incompatible.\n",
            "imbalanced-learn 0.13.0 requires numpy<3,>=1.24.3, but you have numpy 1.23.5 which is incompatible.\n",
            "chex 0.1.89 requires jax>=0.4.27, but you have jax 0.3.25 which is incompatible.\n",
            "chex 0.1.89 requires numpy>=1.24.1, but you have numpy 1.23.5 which is incompatible.\n",
            "albucore 0.0.23 requires numpy>=1.24.4, but you have numpy 1.23.5 which is incompatible.\n",
            "pymc 5.21.1 requires numpy>=1.25.0, but you have numpy 1.23.5 which is incompatible.\n",
            "blosc2 3.2.1 requires numpy>=1.26, but you have numpy 1.23.5 which is incompatible.\n",
            "optax 0.2.4 requires jax>=0.4.27, but you have jax 0.3.25 which is incompatible.\n",
            "albumentations 2.0.5 requires numpy>=1.24.4, but you have numpy 1.23.5 which is incompatible.\n",
            "flax 0.10.5 requires jax>=0.5.1, but you have jax 0.3.25 which is incompatible.\n",
            "treescope 0.1.9 requires numpy>=1.25.2, but you have numpy 1.23.5 which is incompatible.\n",
            "bigframes 1.42.0 requires numpy>=1.24.0, but you have numpy 1.23.5 which is incompatible.\n",
            "orbax-checkpoint 0.11.10 requires jax>=0.5.0, but you have jax 0.3.25 which is incompatible.\n",
            "tensorflow-text 2.18.1 requires tensorflow<2.19,>=2.18.0, but you have tensorflow 2.19.0 which is incompatible.\n",
            "xarray 2025.1.2 requires numpy>=1.24, but you have numpy 1.23.5 which is incompatible.\n",
            "scikit-image 0.25.2 requires numpy>=1.24, but you have numpy 1.23.5 which is incompatible.\u001b[0m\u001b[31m\n",
            "\u001b[0mSuccessfully installed numpy-1.23.5\n"
          ]
        },
        {
          "output_type": "display_data",
          "data": {
            "application/vnd.colab-display-data+json": {
              "pip_warning": {
                "packages": [
                  "numpy"
                ]
              },
              "id": "987c6215993547d4a7b7e883db1008ae"
            }
          },
          "metadata": {}
        },
        {
          "output_type": "stream",
          "name": "stdout",
          "text": [
            "Requirement already satisfied: tensorflow in /usr/local/lib/python3.11/dist-packages (2.19.0)\n",
            "Requirement already satisfied: absl-py>=1.0.0 in /usr/local/lib/python3.11/dist-packages (from tensorflow) (1.4.0)\n",
            "Requirement already satisfied: astunparse>=1.6.0 in /usr/local/lib/python3.11/dist-packages (from tensorflow) (1.6.3)\n",
            "Requirement already satisfied: flatbuffers>=24.3.25 in /usr/local/lib/python3.11/dist-packages (from tensorflow) (25.2.10)\n",
            "Requirement already satisfied: gast!=0.5.0,!=0.5.1,!=0.5.2,>=0.2.1 in /usr/local/lib/python3.11/dist-packages (from tensorflow) (0.6.0)\n",
            "Requirement already satisfied: google-pasta>=0.1.1 in /usr/local/lib/python3.11/dist-packages (from tensorflow) (0.2.0)\n",
            "Requirement already satisfied: libclang>=13.0.0 in /usr/local/lib/python3.11/dist-packages (from tensorflow) (18.1.1)\n",
            "Requirement already satisfied: opt-einsum>=2.3.2 in /usr/local/lib/python3.11/dist-packages (from tensorflow) (3.4.0)\n",
            "Requirement already satisfied: packaging in /usr/local/lib/python3.11/dist-packages (from tensorflow) (24.2)\n",
            "Requirement already satisfied: protobuf!=4.21.0,!=4.21.1,!=4.21.2,!=4.21.3,!=4.21.4,!=4.21.5,<6.0.0dev,>=3.20.3 in /usr/local/lib/python3.11/dist-packages (from tensorflow) (5.29.4)\n",
            "Requirement already satisfied: requests<3,>=2.21.0 in /usr/local/lib/python3.11/dist-packages (from tensorflow) (2.32.3)\n",
            "Requirement already satisfied: setuptools in /usr/local/lib/python3.11/dist-packages (from tensorflow) (75.2.0)\n",
            "Requirement already satisfied: six>=1.12.0 in /usr/local/lib/python3.11/dist-packages (from tensorflow) (1.17.0)\n",
            "Requirement already satisfied: termcolor>=1.1.0 in /usr/local/lib/python3.11/dist-packages (from tensorflow) (3.0.1)\n",
            "Requirement already satisfied: typing-extensions>=3.6.6 in /usr/local/lib/python3.11/dist-packages (from tensorflow) (4.13.0)\n",
            "Requirement already satisfied: wrapt>=1.11.0 in /usr/local/lib/python3.11/dist-packages (from tensorflow) (1.17.2)\n",
            "Requirement already satisfied: grpcio<2.0,>=1.24.3 in /usr/local/lib/python3.11/dist-packages (from tensorflow) (1.71.0)\n",
            "Requirement already satisfied: tensorboard~=2.19.0 in /usr/local/lib/python3.11/dist-packages (from tensorflow) (2.19.0)\n",
            "Requirement already satisfied: keras>=3.5.0 in /usr/local/lib/python3.11/dist-packages (from tensorflow) (3.8.0)\n",
            "Collecting numpy<2.2.0,>=1.26.0 (from tensorflow)\n",
            "  Using cached numpy-2.1.3-cp311-cp311-manylinux_2_17_x86_64.manylinux2014_x86_64.whl.metadata (62 kB)\n",
            "Requirement already satisfied: h5py>=3.11.0 in /usr/local/lib/python3.11/dist-packages (from tensorflow) (3.13.0)\n",
            "Requirement already satisfied: ml-dtypes<1.0.0,>=0.5.1 in /usr/local/lib/python3.11/dist-packages (from tensorflow) (0.5.1)\n",
            "Requirement already satisfied: tensorflow-io-gcs-filesystem>=0.23.1 in /usr/local/lib/python3.11/dist-packages (from tensorflow) (0.37.1)\n",
            "Requirement already satisfied: wheel<1.0,>=0.23.0 in /usr/local/lib/python3.11/dist-packages (from astunparse>=1.6.0->tensorflow) (0.45.1)\n",
            "Requirement already satisfied: rich in /usr/local/lib/python3.11/dist-packages (from keras>=3.5.0->tensorflow) (13.9.4)\n",
            "Requirement already satisfied: namex in /usr/local/lib/python3.11/dist-packages (from keras>=3.5.0->tensorflow) (0.0.8)\n",
            "Requirement already satisfied: optree in /usr/local/lib/python3.11/dist-packages (from keras>=3.5.0->tensorflow) (0.14.1)\n",
            "Requirement already satisfied: charset-normalizer<4,>=2 in /usr/local/lib/python3.11/dist-packages (from requests<3,>=2.21.0->tensorflow) (3.4.1)\n",
            "Requirement already satisfied: idna<4,>=2.5 in /usr/local/lib/python3.11/dist-packages (from requests<3,>=2.21.0->tensorflow) (3.10)\n",
            "Requirement already satisfied: urllib3<3,>=1.21.1 in /usr/local/lib/python3.11/dist-packages (from requests<3,>=2.21.0->tensorflow) (2.3.0)\n",
            "Requirement already satisfied: certifi>=2017.4.17 in /usr/local/lib/python3.11/dist-packages (from requests<3,>=2.21.0->tensorflow) (2025.1.31)\n",
            "Requirement already satisfied: markdown>=2.6.8 in /usr/local/lib/python3.11/dist-packages (from tensorboard~=2.19.0->tensorflow) (3.7)\n",
            "Requirement already satisfied: tensorboard-data-server<0.8.0,>=0.7.0 in /usr/local/lib/python3.11/dist-packages (from tensorboard~=2.19.0->tensorflow) (0.7.2)\n",
            "Requirement already satisfied: werkzeug>=1.0.1 in /usr/local/lib/python3.11/dist-packages (from tensorboard~=2.19.0->tensorflow) (3.1.3)\n",
            "Requirement already satisfied: MarkupSafe>=2.1.1 in /usr/local/lib/python3.11/dist-packages (from werkzeug>=1.0.1->tensorboard~=2.19.0->tensorflow) (3.0.2)\n",
            "Requirement already satisfied: markdown-it-py>=2.2.0 in /usr/local/lib/python3.11/dist-packages (from rich->keras>=3.5.0->tensorflow) (3.0.0)\n",
            "Requirement already satisfied: pygments<3.0.0,>=2.13.0 in /usr/local/lib/python3.11/dist-packages (from rich->keras>=3.5.0->tensorflow) (2.18.0)\n",
            "Requirement already satisfied: mdurl~=0.1 in /usr/local/lib/python3.11/dist-packages (from markdown-it-py>=2.2.0->rich->keras>=3.5.0->tensorflow) (0.1.2)\n",
            "Using cached numpy-2.1.3-cp311-cp311-manylinux_2_17_x86_64.manylinux2014_x86_64.whl (16.3 MB)\n",
            "\u001b[31mERROR: Operation cancelled by user\u001b[0m\u001b[31m\n",
            "\u001b[0m^C\n",
            "^C\n"
          ]
        }
      ]
    },
    {
      "cell_type": "code",
      "execution_count": 4,
      "metadata": {
        "colab": {
          "base_uri": "https://localhost:8080/"
        },
        "id": "FbYLLcSjnATm",
        "outputId": "147a8a59-e025-4078-a6b7-f2ca946db5c4"
      },
      "outputs": [
        {
          "output_type": "stream",
          "name": "stdout",
          "text": [
            "Drive already mounted at /content/drive; to attempt to forcibly remount, call drive.mount(\"/content/drive\", force_remount=True).\n"
          ]
        }
      ],
      "source": [
        "from google.colab import drive\n",
        "drive.mount('/content/drive')"
      ]
    },
    {
      "cell_type": "code",
      "execution_count": 5,
      "metadata": {
        "id": "042Zz8LMnNuG"
      },
      "outputs": [],
      "source": [
        "import os\n",
        "os.chdir('/content/drive/MyDrive/Colab Notebooks/Mask-RCNN-TF2/samples')"
      ]
    },
    {
      "cell_type": "code",
      "source": [
        "#import shutil\n",
        "\n",
        "# Define source and destination paths\n",
        "#source_dir = '/content/drive/MyDrive/Colab Notebooks/Mask-RCNN-TF2'\n",
        "#destination_dir = '/content/Mask-RCNN-TF2'\n",
        "\n",
        "# Move the entire directory\n",
        "#shutil.copytree(source_dir, destination_dir)\n"
      ],
      "metadata": {
        "id": "Kt1BZDBrp7KS"
      },
      "execution_count": null,
      "outputs": []
    },
    {
      "cell_type": "code",
      "source": [
        "#!pip install imgaug"
      ],
      "metadata": {
        "colab": {
          "base_uri": "https://localhost:8080/"
        },
        "id": "V0vKiMiwqrq7",
        "outputId": "684eabac-1dc6-456e-d5b8-2b81c5b42f14"
      },
      "execution_count": 6,
      "outputs": [
        {
          "output_type": "stream",
          "name": "stdout",
          "text": [
            "Collecting imgaug\n",
            "  Downloading imgaug-0.4.0-py2.py3-none-any.whl.metadata (1.8 kB)\n",
            "Requirement already satisfied: six in /usr/local/lib/python3.11/dist-packages (from imgaug) (1.17.0)\n",
            "Requirement already satisfied: numpy>=1.15 in /usr/local/lib/python3.11/dist-packages (from imgaug) (2.0.2)\n",
            "Requirement already satisfied: scipy in /usr/local/lib/python3.11/dist-packages (from imgaug) (1.14.1)\n",
            "Requirement already satisfied: Pillow in /usr/local/lib/python3.11/dist-packages (from imgaug) (11.1.0)\n",
            "Requirement already satisfied: matplotlib in /usr/local/lib/python3.11/dist-packages (from imgaug) (3.10.0)\n",
            "Requirement already satisfied: scikit-image>=0.14.2 in /usr/local/lib/python3.11/dist-packages (from imgaug) (0.25.2)\n",
            "Requirement already satisfied: opencv-python in /usr/local/lib/python3.11/dist-packages (from imgaug) (4.11.0.86)\n",
            "Requirement already satisfied: imageio in /usr/local/lib/python3.11/dist-packages (from imgaug) (2.37.0)\n",
            "Requirement already satisfied: Shapely in /usr/local/lib/python3.11/dist-packages (from imgaug) (2.0.7)\n",
            "Requirement already satisfied: networkx>=3.0 in /usr/local/lib/python3.11/dist-packages (from scikit-image>=0.14.2->imgaug) (3.4.2)\n",
            "Requirement already satisfied: tifffile>=2022.8.12 in /usr/local/lib/python3.11/dist-packages (from scikit-image>=0.14.2->imgaug) (2025.3.30)\n",
            "Requirement already satisfied: packaging>=21 in /usr/local/lib/python3.11/dist-packages (from scikit-image>=0.14.2->imgaug) (24.2)\n",
            "Requirement already satisfied: lazy-loader>=0.4 in /usr/local/lib/python3.11/dist-packages (from scikit-image>=0.14.2->imgaug) (0.4)\n",
            "Requirement already satisfied: contourpy>=1.0.1 in /usr/local/lib/python3.11/dist-packages (from matplotlib->imgaug) (1.3.1)\n",
            "Requirement already satisfied: cycler>=0.10 in /usr/local/lib/python3.11/dist-packages (from matplotlib->imgaug) (0.12.1)\n",
            "Requirement already satisfied: fonttools>=4.22.0 in /usr/local/lib/python3.11/dist-packages (from matplotlib->imgaug) (4.56.0)\n",
            "Requirement already satisfied: kiwisolver>=1.3.1 in /usr/local/lib/python3.11/dist-packages (from matplotlib->imgaug) (1.4.8)\n",
            "Requirement already satisfied: pyparsing>=2.3.1 in /usr/local/lib/python3.11/dist-packages (from matplotlib->imgaug) (3.2.3)\n",
            "Requirement already satisfied: python-dateutil>=2.7 in /usr/local/lib/python3.11/dist-packages (from matplotlib->imgaug) (2.8.2)\n",
            "Downloading imgaug-0.4.0-py2.py3-none-any.whl (948 kB)\n",
            "\u001b[2K   \u001b[90m━━━━━━━━━━━━━━━━━━━━━━━━━━━━━━━━━━━━━━━━\u001b[0m \u001b[32m948.0/948.0 kB\u001b[0m \u001b[31m14.9 MB/s\u001b[0m eta \u001b[36m0:00:00\u001b[0m\n",
            "\u001b[?25hInstalling collected packages: imgaug\n",
            "Successfully installed imgaug-0.4.0\n"
          ]
        }
      ]
    },
    {
      "cell_type": "code",
      "source": [
        "#!pip install numpy==1.23.5\n",
        "#dont use"
      ],
      "metadata": {
        "colab": {
          "base_uri": "https://localhost:8080/",
          "height": 610
        },
        "id": "l5oSyXdHq5vF",
        "outputId": "62e65c15-bebe-4014-d483-d29c20591d9c"
      },
      "execution_count": 9,
      "outputs": [
        {
          "output_type": "stream",
          "name": "stdout",
          "text": [
            "Collecting numpy==1.23.5\n",
            "  Downloading numpy-1.23.5-cp311-cp311-manylinux_2_17_x86_64.manylinux2014_x86_64.whl.metadata (2.3 kB)\n",
            "Downloading numpy-1.23.5-cp311-cp311-manylinux_2_17_x86_64.manylinux2014_x86_64.whl (17.1 MB)\n",
            "\u001b[?25l   \u001b[90m━━━━━━━━━━━━━━━━━━━━━━━━━━━━━━━━━━━━━━━━\u001b[0m \u001b[32m0.0/17.1 MB\u001b[0m \u001b[31m?\u001b[0m eta \u001b[36m-:--:--\u001b[0m\r\u001b[2K   \u001b[91m━\u001b[0m\u001b[90m╺\u001b[0m\u001b[90m━━━━━━━━━━━━━━━━━━━━━━━━━━━━━━━━━━━━━━\u001b[0m \u001b[32m0.6/17.1 MB\u001b[0m \u001b[31m17.8 MB/s\u001b[0m eta \u001b[36m0:00:01\u001b[0m\r\u001b[2K   \u001b[91m━━━━━━━━━━━━━━\u001b[0m\u001b[90m╺\u001b[0m\u001b[90m━━━━━━━━━━━━━━━━━━━━━━━━━\u001b[0m \u001b[32m6.0/17.1 MB\u001b[0m \u001b[31m88.3 MB/s\u001b[0m eta \u001b[36m0:00:01\u001b[0m\r\u001b[2K   \u001b[91m━━━━━━━━━━━━━━━━━━━━━━━━━━━━\u001b[0m\u001b[90m╺\u001b[0m\u001b[90m━━━━━━━━━━━\u001b[0m \u001b[32m12.1/17.1 MB\u001b[0m \u001b[31m179.2 MB/s\u001b[0m eta \u001b[36m0:00:01\u001b[0m\r\u001b[2K   \u001b[91m━━━━━━━━━━━━━━━━━━━━━━━━━━━━━━━━━━━━━━━\u001b[0m\u001b[91m╸\u001b[0m \u001b[32m17.0/17.1 MB\u001b[0m \u001b[31m192.7 MB/s\u001b[0m eta \u001b[36m0:00:01\u001b[0m\r\u001b[2K   \u001b[91m━━━━━━━━━━━━━━━━━━━━━━━━━━━━━━━━━━━━━━━\u001b[0m\u001b[91m╸\u001b[0m \u001b[32m17.0/17.1 MB\u001b[0m \u001b[31m192.7 MB/s\u001b[0m eta \u001b[36m0:00:01\u001b[0m\r\u001b[2K   \u001b[90m━━━━━━━━━━━━━━━━━━━━━━━━━━━━━━━━━━━━━━━━\u001b[0m \u001b[32m17.1/17.1 MB\u001b[0m \u001b[31m95.4 MB/s\u001b[0m eta \u001b[36m0:00:00\u001b[0m\n",
            "\u001b[?25hInstalling collected packages: numpy\n",
            "  Attempting uninstall: numpy\n",
            "    Found existing installation: numpy 2.1.3\n",
            "    Uninstalling numpy-2.1.3:\n",
            "      Successfully uninstalled numpy-2.1.3\n",
            "\u001b[31mERROR: pip's dependency resolver does not currently take into account all the packages that are installed. This behaviour is the source of the following dependency conflicts.\n",
            "tensorflow 2.19.0 requires numpy<2.2.0,>=1.26.0, but you have numpy 1.23.5 which is incompatible.\n",
            "jaxlib 0.5.1 requires numpy>=1.25, but you have numpy 1.23.5 which is incompatible.\n",
            "tf-keras 2.18.0 requires tensorflow<2.19,>=2.18, but you have tensorflow 2.19.0 which is incompatible.\n",
            "imbalanced-learn 0.13.0 requires numpy<3,>=1.24.3, but you have numpy 1.23.5 which is incompatible.\n",
            "jax 0.5.2 requires numpy>=1.25, but you have numpy 1.23.5 which is incompatible.\n",
            "chex 0.1.89 requires numpy>=1.24.1, but you have numpy 1.23.5 which is incompatible.\n",
            "albucore 0.0.23 requires numpy>=1.24.4, but you have numpy 1.23.5 which is incompatible.\n",
            "pymc 5.21.1 requires numpy>=1.25.0, but you have numpy 1.23.5 which is incompatible.\n",
            "blosc2 3.2.1 requires numpy>=1.26, but you have numpy 1.23.5 which is incompatible.\n",
            "albumentations 2.0.5 requires numpy>=1.24.4, but you have numpy 1.23.5 which is incompatible.\n",
            "treescope 0.1.9 requires numpy>=1.25.2, but you have numpy 1.23.5 which is incompatible.\n",
            "bigframes 1.42.0 requires numpy>=1.24.0, but you have numpy 1.23.5 which is incompatible.\n",
            "tensorflow-text 2.18.1 requires tensorflow<2.19,>=2.18.0, but you have tensorflow 2.19.0 which is incompatible.\n",
            "xarray 2025.1.2 requires numpy>=1.24, but you have numpy 1.23.5 which is incompatible.\n",
            "scikit-image 0.25.2 requires numpy>=1.24, but you have numpy 1.23.5 which is incompatible.\u001b[0m\u001b[31m\n",
            "\u001b[0mSuccessfully installed numpy-1.23.5\n"
          ]
        },
        {
          "output_type": "display_data",
          "data": {
            "application/vnd.colab-display-data+json": {
              "pip_warning": {
                "packages": [
                  "numpy"
                ]
              },
              "id": "5a66beeaf1274ec7ba7de19e6a202cb2"
            }
          },
          "metadata": {}
        }
      ]
    },
    {
      "cell_type": "code",
      "source": [
        "#!pip install numpy --upgrade\n",
        "#!pip install --upgrade tensorflow dont use"
      ],
      "metadata": {
        "colab": {
          "base_uri": "https://localhost:8080/",
          "height": 1000
        },
        "id": "UT2MccO6rJUp",
        "outputId": "009851cc-e626-4eed-ab0a-08ca346f6ed7"
      },
      "execution_count": 2,
      "outputs": [
        {
          "output_type": "stream",
          "name": "stdout",
          "text": [
            "Requirement already satisfied: numpy in /usr/local/lib/python3.11/dist-packages (1.24.0)\n",
            "Collecting numpy\n",
            "  Downloading numpy-2.2.4-cp311-cp311-manylinux_2_17_x86_64.manylinux2014_x86_64.whl.metadata (62 kB)\n",
            "\u001b[2K     \u001b[90m━━━━━━━━━━━━━━━━━━━━━━━━━━━━━━━━━━━━━━━━\u001b[0m \u001b[32m62.0/62.0 kB\u001b[0m \u001b[31m2.7 MB/s\u001b[0m eta \u001b[36m0:00:00\u001b[0m\n",
            "\u001b[?25hDownloading numpy-2.2.4-cp311-cp311-manylinux_2_17_x86_64.manylinux2014_x86_64.whl (16.4 MB)\n",
            "\u001b[2K   \u001b[90m━━━━━━━━━━━━━━━━━━━━━━━━━━━━━━━━━━━━━━━━\u001b[0m \u001b[32m16.4/16.4 MB\u001b[0m \u001b[31m59.6 MB/s\u001b[0m eta \u001b[36m0:00:00\u001b[0m\n",
            "\u001b[?25hInstalling collected packages: numpy\n",
            "  Attempting uninstall: numpy\n",
            "    Found existing installation: numpy 1.24.0\n",
            "    Uninstalling numpy-1.24.0:\n",
            "      Successfully uninstalled numpy-1.24.0\n",
            "\u001b[31mERROR: pip's dependency resolver does not currently take into account all the packages that are installed. This behaviour is the source of the following dependency conflicts.\n",
            "tensorflow 2.18.0 requires numpy<2.1.0,>=1.26.0, but you have numpy 2.2.4 which is incompatible.\n",
            "numba 0.60.0 requires numpy<2.1,>=1.22, but you have numpy 2.2.4 which is incompatible.\u001b[0m\u001b[31m\n",
            "\u001b[0mSuccessfully installed numpy-2.2.4\n",
            "Requirement already satisfied: tensorflow in /usr/local/lib/python3.11/dist-packages (2.18.0)\n",
            "Collecting tensorflow\n",
            "  Downloading tensorflow-2.19.0-cp311-cp311-manylinux_2_17_x86_64.manylinux2014_x86_64.whl.metadata (4.1 kB)\n",
            "Requirement already satisfied: absl-py>=1.0.0 in /usr/local/lib/python3.11/dist-packages (from tensorflow) (1.4.0)\n",
            "Requirement already satisfied: astunparse>=1.6.0 in /usr/local/lib/python3.11/dist-packages (from tensorflow) (1.6.3)\n",
            "Requirement already satisfied: flatbuffers>=24.3.25 in /usr/local/lib/python3.11/dist-packages (from tensorflow) (25.2.10)\n",
            "Requirement already satisfied: gast!=0.5.0,!=0.5.1,!=0.5.2,>=0.2.1 in /usr/local/lib/python3.11/dist-packages (from tensorflow) (0.6.0)\n",
            "Requirement already satisfied: google-pasta>=0.1.1 in /usr/local/lib/python3.11/dist-packages (from tensorflow) (0.2.0)\n",
            "Requirement already satisfied: libclang>=13.0.0 in /usr/local/lib/python3.11/dist-packages (from tensorflow) (18.1.1)\n",
            "Requirement already satisfied: opt-einsum>=2.3.2 in /usr/local/lib/python3.11/dist-packages (from tensorflow) (3.4.0)\n",
            "Requirement already satisfied: packaging in /usr/local/lib/python3.11/dist-packages (from tensorflow) (24.2)\n",
            "Requirement already satisfied: protobuf!=4.21.0,!=4.21.1,!=4.21.2,!=4.21.3,!=4.21.4,!=4.21.5,<6.0.0dev,>=3.20.3 in /usr/local/lib/python3.11/dist-packages (from tensorflow) (5.29.4)\n",
            "Requirement already satisfied: requests<3,>=2.21.0 in /usr/local/lib/python3.11/dist-packages (from tensorflow) (2.32.3)\n",
            "Requirement already satisfied: setuptools in /usr/local/lib/python3.11/dist-packages (from tensorflow) (75.2.0)\n",
            "Requirement already satisfied: six>=1.12.0 in /usr/local/lib/python3.11/dist-packages (from tensorflow) (1.17.0)\n",
            "Requirement already satisfied: termcolor>=1.1.0 in /usr/local/lib/python3.11/dist-packages (from tensorflow) (3.0.1)\n",
            "Requirement already satisfied: typing-extensions>=3.6.6 in /usr/local/lib/python3.11/dist-packages (from tensorflow) (4.13.0)\n",
            "Requirement already satisfied: wrapt>=1.11.0 in /usr/local/lib/python3.11/dist-packages (from tensorflow) (1.17.2)\n",
            "Requirement already satisfied: grpcio<2.0,>=1.24.3 in /usr/local/lib/python3.11/dist-packages (from tensorflow) (1.71.0)\n",
            "Collecting tensorboard~=2.19.0 (from tensorflow)\n",
            "  Downloading tensorboard-2.19.0-py3-none-any.whl.metadata (1.8 kB)\n",
            "Requirement already satisfied: keras>=3.5.0 in /usr/local/lib/python3.11/dist-packages (from tensorflow) (3.8.0)\n",
            "Collecting numpy<2.2.0,>=1.26.0 (from tensorflow)\n",
            "  Downloading numpy-2.1.3-cp311-cp311-manylinux_2_17_x86_64.manylinux2014_x86_64.whl.metadata (62 kB)\n",
            "\u001b[2K     \u001b[90m━━━━━━━━━━━━━━━━━━━━━━━━━━━━━━━━━━━━━━━━\u001b[0m \u001b[32m62.0/62.0 kB\u001b[0m \u001b[31m3.7 MB/s\u001b[0m eta \u001b[36m0:00:00\u001b[0m\n",
            "\u001b[?25hRequirement already satisfied: h5py>=3.11.0 in /usr/local/lib/python3.11/dist-packages (from tensorflow) (3.13.0)\n",
            "Collecting ml-dtypes<1.0.0,>=0.5.1 (from tensorflow)\n",
            "  Downloading ml_dtypes-0.5.1-cp311-cp311-manylinux_2_17_x86_64.manylinux2014_x86_64.whl.metadata (21 kB)\n",
            "Requirement already satisfied: tensorflow-io-gcs-filesystem>=0.23.1 in /usr/local/lib/python3.11/dist-packages (from tensorflow) (0.37.1)\n",
            "Requirement already satisfied: wheel<1.0,>=0.23.0 in /usr/local/lib/python3.11/dist-packages (from astunparse>=1.6.0->tensorflow) (0.45.1)\n",
            "Requirement already satisfied: rich in /usr/local/lib/python3.11/dist-packages (from keras>=3.5.0->tensorflow) (13.9.4)\n",
            "Requirement already satisfied: namex in /usr/local/lib/python3.11/dist-packages (from keras>=3.5.0->tensorflow) (0.0.8)\n",
            "Requirement already satisfied: optree in /usr/local/lib/python3.11/dist-packages (from keras>=3.5.0->tensorflow) (0.14.1)\n",
            "Requirement already satisfied: charset-normalizer<4,>=2 in /usr/local/lib/python3.11/dist-packages (from requests<3,>=2.21.0->tensorflow) (3.4.1)\n",
            "Requirement already satisfied: idna<4,>=2.5 in /usr/local/lib/python3.11/dist-packages (from requests<3,>=2.21.0->tensorflow) (3.10)\n",
            "Requirement already satisfied: urllib3<3,>=1.21.1 in /usr/local/lib/python3.11/dist-packages (from requests<3,>=2.21.0->tensorflow) (2.3.0)\n",
            "Requirement already satisfied: certifi>=2017.4.17 in /usr/local/lib/python3.11/dist-packages (from requests<3,>=2.21.0->tensorflow) (2025.1.31)\n",
            "Requirement already satisfied: markdown>=2.6.8 in /usr/local/lib/python3.11/dist-packages (from tensorboard~=2.19.0->tensorflow) (3.7)\n",
            "Requirement already satisfied: tensorboard-data-server<0.8.0,>=0.7.0 in /usr/local/lib/python3.11/dist-packages (from tensorboard~=2.19.0->tensorflow) (0.7.2)\n",
            "Requirement already satisfied: werkzeug>=1.0.1 in /usr/local/lib/python3.11/dist-packages (from tensorboard~=2.19.0->tensorflow) (3.1.3)\n",
            "Requirement already satisfied: MarkupSafe>=2.1.1 in /usr/local/lib/python3.11/dist-packages (from werkzeug>=1.0.1->tensorboard~=2.19.0->tensorflow) (3.0.2)\n",
            "Requirement already satisfied: markdown-it-py>=2.2.0 in /usr/local/lib/python3.11/dist-packages (from rich->keras>=3.5.0->tensorflow) (3.0.0)\n",
            "Requirement already satisfied: pygments<3.0.0,>=2.13.0 in /usr/local/lib/python3.11/dist-packages (from rich->keras>=3.5.0->tensorflow) (2.18.0)\n",
            "Requirement already satisfied: mdurl~=0.1 in /usr/local/lib/python3.11/dist-packages (from markdown-it-py>=2.2.0->rich->keras>=3.5.0->tensorflow) (0.1.2)\n",
            "Downloading tensorflow-2.19.0-cp311-cp311-manylinux_2_17_x86_64.manylinux2014_x86_64.whl (644.9 MB)\n",
            "\u001b[2K   \u001b[90m━━━━━━━━━━━━━━━━━━━━━━━━━━━━━━━━━━━━━━━━\u001b[0m \u001b[32m644.9/644.9 MB\u001b[0m \u001b[31m2.9 MB/s\u001b[0m eta \u001b[36m0:00:00\u001b[0m\n",
            "\u001b[?25hDownloading ml_dtypes-0.5.1-cp311-cp311-manylinux_2_17_x86_64.manylinux2014_x86_64.whl (4.7 MB)\n",
            "\u001b[2K   \u001b[90m━━━━━━━━━━━━━━━━━━━━━━━━━━━━━━━━━━━━━━━━\u001b[0m \u001b[32m4.7/4.7 MB\u001b[0m \u001b[31m96.8 MB/s\u001b[0m eta \u001b[36m0:00:00\u001b[0m\n",
            "\u001b[?25hDownloading numpy-2.1.3-cp311-cp311-manylinux_2_17_x86_64.manylinux2014_x86_64.whl (16.3 MB)\n",
            "\u001b[2K   \u001b[90m━━━━━━━━━━━━━━━━━━━━━━━━━━━━━━━━━━━━━━━━\u001b[0m \u001b[32m16.3/16.3 MB\u001b[0m \u001b[31m99.0 MB/s\u001b[0m eta \u001b[36m0:00:00\u001b[0m\n",
            "\u001b[?25hDownloading tensorboard-2.19.0-py3-none-any.whl (5.5 MB)\n",
            "\u001b[2K   \u001b[90m━━━━━━━━━━━━━━━━━━━━━━━━━━━━━━━━━━━━━━━━\u001b[0m \u001b[32m5.5/5.5 MB\u001b[0m \u001b[31m100.0 MB/s\u001b[0m eta \u001b[36m0:00:00\u001b[0m\n",
            "\u001b[?25hInstalling collected packages: numpy, tensorboard, ml-dtypes, tensorflow\n",
            "  Attempting uninstall: numpy\n",
            "    Found existing installation: numpy 2.2.4\n",
            "    Uninstalling numpy-2.2.4:\n",
            "      Successfully uninstalled numpy-2.2.4\n",
            "  Attempting uninstall: tensorboard\n",
            "    Found existing installation: tensorboard 2.18.0\n",
            "    Uninstalling tensorboard-2.18.0:\n",
            "      Successfully uninstalled tensorboard-2.18.0\n",
            "  Attempting uninstall: ml-dtypes\n",
            "    Found existing installation: ml-dtypes 0.4.1\n",
            "    Uninstalling ml-dtypes-0.4.1:\n",
            "      Successfully uninstalled ml-dtypes-0.4.1\n",
            "  Attempting uninstall: tensorflow\n",
            "    Found existing installation: tensorflow 2.18.0\n",
            "    Uninstalling tensorflow-2.18.0:\n",
            "      Successfully uninstalled tensorflow-2.18.0\n",
            "\u001b[31mERROR: pip's dependency resolver does not currently take into account all the packages that are installed. This behaviour is the source of the following dependency conflicts.\n",
            "tf-keras 2.18.0 requires tensorflow<2.19,>=2.18, but you have tensorflow 2.19.0 which is incompatible.\n",
            "tensorflow-text 2.18.1 requires tensorflow<2.19,>=2.18.0, but you have tensorflow 2.19.0 which is incompatible.\n",
            "numba 0.60.0 requires numpy<2.1,>=1.22, but you have numpy 2.1.3 which is incompatible.\u001b[0m\u001b[31m\n",
            "\u001b[0mSuccessfully installed ml-dtypes-0.5.1 numpy-2.1.3 tensorboard-2.19.0 tensorflow-2.19.0\n"
          ]
        },
        {
          "output_type": "display_data",
          "data": {
            "application/vnd.colab-display-data+json": {
              "pip_warning": {
                "packages": [
                  "ml_dtypes"
                ]
              },
              "id": "96d41abfa4a04ad1b10cdec62089cece"
            }
          },
          "metadata": {}
        }
      ]
    },
    {
      "cell_type": "code",
      "execution_count": 28,
      "metadata": {
        "colab": {
          "base_uri": "https://localhost:8080/"
        },
        "id": "j_MUeGlRml4Y",
        "outputId": "f172884d-0bf6-4c43-c718-6d4247dba6f8"
      },
      "outputs": [
        {
          "output_type": "stream",
          "name": "stdout",
          "text": [
            "/content/drive/MyDrive/Colab Notebooks/Mask-RCNN-TF2\n",
            "/content/drive/MyDrive/Colab Notebooks/Mask-RCNN-TF2/images\n"
          ]
        }
      ],
      "source": [
        "import os\n",
        "import sys\n",
        "import random\n",
        "import math\n",
        "import numpy as np\n",
        "import skimage.io\n",
        "import matplotlib\n",
        "import matplotlib.pyplot as plt\n",
        "\n",
        "# Root directory of the project\n",
        "ROOT_DIR = os.path.abspath(\"../\")\n",
        "print(ROOT_DIR)\n",
        "# Import Mask RCNN\n",
        "sys.path.append(ROOT_DIR)  # To find local version of the library\n",
        "from mrcnn import utils\n",
        "import mrcnn.model as modellib\n",
        "from mrcnn import visualize\n",
        "# Import COCO config\n",
        "sys.path.append(os.path.join(ROOT_DIR, \"samples/coco/\"))  # To find local version\n",
        "import coco\n",
        "\n",
        "%matplotlib inline\n",
        "\n",
        "# Directory to save logs and trained model\n",
        "MODEL_DIR = os.path.join(ROOT_DIR, \"logs\")\n",
        "\n",
        "# Local path to trained weights file\n",
        "COCO_MODEL_PATH = os.path.join(ROOT_DIR, \"mask_rcnn_coco.h5\")\n",
        "# Download COCO trained weights from Releases if needed\n",
        "if not os.path.exists(COCO_MODEL_PATH):\n",
        "    utils.download_trained_weights(COCO_MODEL_PATH)\n",
        "\n",
        "# Directory of images to run detection on\n",
        "IMAGE_DIR = os.path.join(ROOT_DIR, \"images\")\n",
        "print(IMAGE_DIR)"
      ]
    },
    {
      "cell_type": "code",
      "execution_count": 7,
      "metadata": {
        "colab": {
          "base_uri": "https://localhost:8080/"
        },
        "id": "b5ti7x_7nign",
        "outputId": "21956ba5-bea8-4082-8085-03b5313f52be"
      },
      "outputs": [
        {
          "output_type": "stream",
          "name": "stdout",
          "text": [
            "2.19.0\n"
          ]
        }
      ],
      "source": [
        "import tensorflow\n",
        "print (tensorflow.__version__)"
      ]
    },
    {
      "cell_type": "code",
      "execution_count": null,
      "metadata": {
        "colab": {
          "background_save": true,
          "base_uri": "https://localhost:8080/"
        },
        "id": "_TkIsNsonleG",
        "outputId": "5821ab56-05dd-4790-d832-19aee22ac603"
      },
      "outputs": [
        {
          "name": "stdout",
          "output_type": "stream",
          "text": [
            "\u001b[33mWARNING: Skipping keras-nightly as it is not installed.\u001b[0m\u001b[33m\n",
            "\u001b[0mRequirement already satisfied: q in /usr/local/lib/python3.11/dist-packages (2.7)\n",
            "Requirement already satisfied: keras==2.1.6 in /usr/local/lib/python3.11/dist-packages (2.1.6)\n",
            "Requirement already satisfied: numpy>=1.9.1 in /usr/local/lib/python3.11/dist-packages (from keras==2.1.6) (2.0.2)\n",
            "Requirement already satisfied: scipy>=0.14 in /usr/local/lib/python3.11/dist-packages (from keras==2.1.6) (1.14.1)\n",
            "Requirement already satisfied: six>=1.9.0 in /usr/local/lib/python3.11/dist-packages (from keras==2.1.6) (1.17.0)\n",
            "Requirement already satisfied: pyyaml in /usr/local/lib/python3.11/dist-packages (from keras==2.1.6) (6.0.2)\n",
            "Requirement already satisfied: h5py in /usr/local/lib/python3.11/dist-packages (from keras==2.1.6) (3.13.0)\n"
          ]
        }
      ],
      "source": [
        "#!pip uninstall keras-nightly\n",
        "#!pip install h5py==2.10.0\n",
        "#!pip install q keras==2.1.6"
      ]
    },
    {
      "cell_type": "markdown",
      "metadata": {
        "id": "siZFQdrYml4h"
      },
      "source": [
        "## Configurations\n",
        "\n",
        "We'll be using a model trained on the MS-COCO dataset. The configurations of this model are in the ```CocoConfig``` class in ```coco.py```.\n",
        "\n",
        "For inferencing, modify the configurations a bit to fit the task. To do so, sub-class the ```CocoConfig``` class and override the attributes you need to change."
      ]
    },
    {
      "cell_type": "code",
      "execution_count": 8,
      "metadata": {
        "id": "3_ACZZNdml4i",
        "colab": {
          "base_uri": "https://localhost:8080/"
        },
        "outputId": "90adf7e2-a14a-4c2d-ec2b-061e0efbd0b9"
      },
      "outputs": [
        {
          "output_type": "stream",
          "name": "stdout",
          "text": [
            "\n",
            "Configurations:\n",
            "BACKBONE                       resnet101\n",
            "BACKBONE_STRIDES               [4, 8, 16, 32, 64]\n",
            "BATCH_SIZE                     1\n",
            "BBOX_STD_DEV                   [0.1 0.1 0.2 0.2]\n",
            "COMPUTE_BACKBONE_SHAPE         None\n",
            "DETECTION_MAX_INSTANCES        100\n",
            "DETECTION_MIN_CONFIDENCE       0.7\n",
            "DETECTION_NMS_THRESHOLD        0.3\n",
            "FPN_CLASSIF_FC_LAYERS_SIZE     1024\n",
            "GPU_COUNT                      1\n",
            "GRADIENT_CLIP_NORM             5.0\n",
            "IMAGES_PER_GPU                 1\n",
            "IMAGE_CHANNEL_COUNT            3\n",
            "IMAGE_MAX_DIM                  1024\n",
            "IMAGE_META_SIZE                93\n",
            "IMAGE_MIN_DIM                  800\n",
            "IMAGE_MIN_SCALE                0\n",
            "IMAGE_RESIZE_MODE              square\n",
            "IMAGE_SHAPE                    [1024 1024    3]\n",
            "LEARNING_MOMENTUM              0.9\n",
            "LEARNING_RATE                  0.001\n",
            "LOSS_WEIGHTS                   {'rpn_class_loss': 1.0, 'rpn_bbox_loss': 1.0, 'mrcnn_class_loss': 1.0, 'mrcnn_bbox_loss': 1.0, 'mrcnn_mask_loss': 1.0}\n",
            "MASK_POOL_SIZE                 14\n",
            "MASK_SHAPE                     [28, 28]\n",
            "MAX_GT_INSTANCES               100\n",
            "MEAN_PIXEL                     [123.7 116.8 103.9]\n",
            "MINI_MASK_SHAPE                (56, 56)\n",
            "NAME                           coco\n",
            "NUM_CLASSES                    81\n",
            "POOL_SIZE                      7\n",
            "POST_NMS_ROIS_INFERENCE        1000\n",
            "POST_NMS_ROIS_TRAINING         2000\n",
            "PRE_NMS_LIMIT                  6000\n",
            "ROI_POSITIVE_RATIO             0.33\n",
            "RPN_ANCHOR_RATIOS              [0.5, 1, 2]\n",
            "RPN_ANCHOR_SCALES              (32, 64, 128, 256, 512)\n",
            "RPN_ANCHOR_STRIDE              1\n",
            "RPN_BBOX_STD_DEV               [0.1 0.1 0.2 0.2]\n",
            "RPN_NMS_THRESHOLD              0.7\n",
            "RPN_TRAIN_ANCHORS_PER_IMAGE    256\n",
            "STEPS_PER_EPOCH                1000\n",
            "TOP_DOWN_PYRAMID_SIZE          256\n",
            "TRAIN_BN                       False\n",
            "TRAIN_ROIS_PER_IMAGE           200\n",
            "USE_MINI_MASK                  True\n",
            "USE_RPN_ROIS                   True\n",
            "VALIDATION_STEPS               50\n",
            "WEIGHT_DECAY                   0.0001\n",
            "\n",
            "\n"
          ]
        }
      ],
      "source": [
        "class InferenceConfig(coco.CocoConfig):\n",
        "    # Set batch size to 1 since we'll be running inference on\n",
        "    # one image at a time. Batch size = GPU_COUNT * IMAGES_PER_GPU\n",
        "    GPU_COUNT = 1\n",
        "    IMAGES_PER_GPU = 1\n",
        "\n",
        "config = InferenceConfig()\n",
        "config.display()"
      ]
    },
    {
      "cell_type": "markdown",
      "metadata": {
        "id": "fhDDtc3lml4l"
      },
      "source": [
        "## Create Model and Load Trained Weights"
      ]
    },
    {
      "cell_type": "code",
      "execution_count": 18,
      "metadata": {
        "collapsed": true,
        "id": "yBYuo5A1ml4n",
        "scrolled": false,
        "colab": {
          "base_uri": "https://localhost:8080/",
          "height": 1000
        },
        "outputId": "96b7ea78-5c09-4228-f9f2-8991e1f7769e"
      },
      "outputs": [
        {
          "output_type": "stream",
          "name": "stdout",
          "text": [
            "/content/drive/MyDrive/Colab Notebooks/Mask-RCNN-TF2/mask_rcnn_coco.h5\n"
          ]
        },
        {
          "output_type": "error",
          "ename": "NotImplementedError",
          "evalue": "Save or restore weights that is not an instance of `tf.Variable` is not supported in h5, use `save_format='tf'` instead. Got a model or layer Conv2D with weights [<Variable path=conv1/kernel, shape=(7, 7, 3, 64), dtype=float32, value=[[[[-3.62043530e-02 -3.96408327e-02 -1.89774260e-02 ... -2.21230742e-02\n     3.08965556e-02  1.84372254e-02]\n   [ 3.83923240e-02 -6.49132207e-03  2.48639397e-02 ...  1.10419914e-02\n    -3.83694954e-02  4.10163514e-02]\n   [-2.45336276e-02 -3.18171605e-02 -7.34064728e-04 ... -2.46968102e-02\n     2.70892642e-02 -2.91664004e-02]]\n\n  [[ 6.76283985e-03  3.44421528e-02 -2.24368293e-02 ...  6.72259927e-03\n     9.98533890e-03 -1.75023694e-02]\n   [-1.56424437e-02  1.10537745e-02  3.91639583e-02 ... -1.85549278e-02\n     3.43748368e-02 -8.09661672e-03]\n   [-1.95786357e-04 -7.76237622e-03  3.26079242e-02 ...  1.27446875e-02\n    -9.40914452e-03 -4.23761830e-03]]\n\n  [[-1.95058063e-02 -8.15305486e-03  3.33033390e-02 ... -4.09589261e-02\n    -1.56765077e-02  3.89881432e-04]\n   [ 2.13601030e-02  2.75192820e-02  1.02213956e-02 ...  1.67290568e-02\n     2.26449631e-02  4.29405645e-03]\n   [-1.05814859e-02  3.73267196e-02 -1.92711037e-02 ...  1.10196620e-02\n    -7.66602531e-03 -3.83530222e-02]]\n\n  ...\n\n  [[ 1.11721605e-02  2.76119448e-02  5.21575287e-03 ...  3.39099877e-02\n     5.84012270e-03  3.00908200e-02]\n   [-2.30397247e-02  1.09078996e-02 -2.17114091e-02 ...  9.96946916e-03\n     4.99988347e-03  4.09114845e-02]\n   [-1.26983430e-02  3.98095064e-02 -2.90566571e-02 ...  1.86529495e-02\n     2.03736238e-02 -2.13160627e-02]]\n\n  [[-3.89121734e-02 -1.56821534e-02  3.93518545e-02 ... -3.96436825e-03\n     3.62141393e-02  1.42666325e-03]\n   [ 4.97177243e-05  2.70799883e-02  2.27449574e-02 ... -2.79628821e-02\n     1.28867105e-02  1.29249319e-02]\n   [ 8.08647648e-03  3.78893279e-02 -3.32952365e-02 ...  1.86176524e-02\n     5.05287573e-03 -1.86397601e-02]]\n\n  [[ 4.24040817e-02 -3.16244103e-02 -1.70767419e-02 ...  2.51873024e-02\n    -2.22404301e-03  5.48414886e-03]\n   [ 3.66758071e-02 -3.54670212e-02 -1.58341248e-02 ... -1.78717244e-02\n    -4.20567282e-02 -1.67361293e-02]\n   [ 1.75273120e-02  3.09404843e-02  4.25419770e-02 ... -1.42190829e-02\n     3.85582708e-02  2.04752646e-02]]]\n\n\n [[[-1.96556970e-02  3.93096171e-02 -5.44932112e-03 ... -7.08839670e-03\n    -2.59930603e-02  2.99764685e-02]\n   [ 9.62510332e-03  1.88001581e-02 -1.45111792e-02 ... -3.14046517e-02\n    -2.63168961e-02  2.07622163e-02]\n   [ 2.47194059e-02  3.51999365e-02  1.96308270e-03 ...  4.04345728e-02\n    -3.62677425e-02 -4.51834127e-03]]\n\n  [[ 1.52090490e-02  2.81039067e-02  1.66311860e-03 ...  3.84962298e-02\n    -2.22311243e-02  7.61494040e-03]\n   [ 3.51033621e-02  3.48149948e-02  1.22629516e-02 ...  1.75594985e-02\n    -1.79722328e-02  1.07789338e-02]\n   [-1.09658241e-02  3.77079137e-02 -2.43530776e-02 ... -4.77548689e-03\n    -1.79974809e-02  4.12147902e-02]]\n\n  [[-4.23453003e-03  3.72520089e-03  8.03964213e-03 ...  4.11858037e-03\n    -3.02951261e-02  2.11139582e-02]\n   [-3.29389572e-02 -1.85177103e-03  2.09593587e-02 ... -2.59691477e-02\n     6.86833262e-03  2.81998999e-02]\n   [-5.40984794e-03  5.45472652e-03  4.10269238e-02 ... -1.14942640e-02\n    -2.65467782e-02 -4.05268669e-02]]\n\n  ...\n\n  [[ 1.09457560e-02  2.51381658e-02  2.96088681e-03 ... -4.45984676e-03\n    -6.29872456e-03 -2.34115887e-02]\n   [-3.69856507e-02  2.04754286e-02 -1.94174368e-02 ... -2.42848396e-02\n    -2.67726835e-02  5.24576008e-03]\n   [ 3.09940688e-02 -1.66103840e-02 -4.79317084e-03 ...  2.74447687e-02\n    -1.84490178e-02 -3.53517234e-02]]\n\n  [[ 3.65827270e-02 -2.51799133e-02  4.18144055e-02 ...  2.54985280e-02\n     4.13933508e-02 -3.17037068e-02]\n   [-3.13537195e-03  3.55726667e-02 -1.97612606e-02 ...  2.52808817e-02\n     3.92463021e-02 -3.24160531e-02]\n   [-1.99007336e-02 -7.39179552e-04  3.64942066e-02 ... -4.13406566e-02\n     3.87365259e-02  3.79320718e-02]]\n\n  [[ 3.82874645e-02 -1.85768921e-02 -2.89776661e-02 ... -4.27060910e-02\n     2.97709554e-03  3.01843621e-02]\n   [ 6.77426532e-03  2.36726664e-02  3.89671810e-02 ...  3.64967249e-02\n    -8.20189714e-03 -2.37644222e-02]\n   [-9.32880864e-03  1.59228183e-02  1.81068368e-02 ... -3.27875055e-02\n    -6.04587793e-03 -8.11823457e-03]]]\n\n\n [[[-2.39207596e-03  1.11584924e-02 -1.23152379e-02 ...  1.33863688e-02\n     1.52964890e-03  2.15704255e-02]\n   [ 4.09353338e-02 -3.21953110e-02  1.98851116e-02 ...  2.26832926e-03\n     1.62528120e-02  3.09349410e-02]\n   [-4.94072959e-03  2.48671435e-02  4.14164774e-02 ... -1.17197931e-02\n     2.73084305e-02 -8.56071711e-06]]\n\n  [[ 3.37220170e-02  1.79686397e-03 -7.75283575e-03 ... -1.76721253e-02\n    -9.22969729e-03  2.69113295e-02]\n   [-1.22416895e-02  2.14917473e-02  2.19850987e-03 ...  3.22860889e-02\n     1.42515562e-02  2.52271183e-02]\n   [ 1.36318430e-02 -2.93993186e-02 -3.53946649e-02 ... -1.25177018e-02\n     9.60165262e-03 -1.61675364e-03]]\n\n  [[ 3.73754650e-03  2.19541229e-02  1.98673457e-04 ...  3.17514725e-02\n     1.79487094e-02  1.30859427e-02]\n   [ 1.37959830e-02 -3.81649211e-02 -2.85809636e-02 ... -4.08071801e-02\n    -3.83215100e-02 -3.38380411e-03]\n   [-9.22523066e-03  2.38390826e-02  2.49765068e-03 ...  3.46318595e-02\n     2.98016146e-03  2.79288553e-02]]\n\n  ...\n\n  [[ 6.84775412e-03 -1.59575660e-02 -5.05621731e-03 ...  7.69544020e-03\n     1.88931152e-02  3.31252031e-02]\n   [ 4.24015485e-02  2.47431360e-02  1.19952857e-02 ... -3.48497741e-02\n     1.42469816e-02 -9.13411379e-04]\n   [ 2.26945058e-03 -1.98084861e-03  2.59662457e-02 ... -2.52003595e-02\n    -2.77186278e-02 -3.11002508e-03]]\n\n  [[ 3.42022069e-02 -1.98924374e-02 -1.25876125e-02 ... -3.79639342e-02\n    -3.33851129e-02  3.25022452e-02]\n   [ 1.71772614e-02  2.15119310e-02  3.35188545e-02 ... -2.69376803e-02\n     9.05054435e-03  7.73192197e-03]\n   [-2.38358192e-02  4.24433537e-02  4.10456546e-02 ... -3.31048481e-02\n     1.84838660e-02  3.46029215e-02]]\n\n  [[-1.31532960e-02  4.25444581e-02 -5.99635392e-03 ... -2.72619016e-02\n    -2.10671518e-02  2.03298368e-02]\n   [-3.85300443e-03  2.79044472e-02 -2.75812857e-02 ...  2.46440731e-02\n     3.63824405e-02 -3.52970697e-02]\n   [-3.98917124e-02 -2.83824038e-02 -4.93663177e-03 ...  3.65928002e-02\n    -1.50473863e-02  1.64878815e-02]]]\n\n\n ...\n\n\n [[[ 2.26881765e-02  3.33379395e-02  1.42986774e-02 ... -3.35581601e-03\n    -8.57387111e-03 -2.44939178e-02]\n   [ 2.48700380e-05  2.16692314e-03  7.99874961e-03 ... -4.21238989e-02\n    -2.05442775e-02 -9.77613032e-04]\n   [-3.49917337e-02 -3.20329964e-02 -9.85175371e-04 ... -2.12266333e-02\n    -2.27589626e-02  2.31404267e-02]]\n\n  [[ 3.12223770e-02 -1.96839496e-03 -3.59449983e-02 ...  1.73510201e-02\n    -3.89108062e-02 -4.09898087e-02]\n   [ 2.70009153e-02 -3.52103338e-02 -3.39223780e-02 ... -1.73980296e-02\n    -2.35423986e-02 -3.77591252e-02]\n   [ 3.19663063e-03 -9.33615863e-03 -4.11243625e-02 ... -2.04762835e-02\n    -3.22509557e-04  3.74416895e-02]]\n\n  [[ 1.11466795e-02  1.46212094e-02 -4.07962240e-02 ... -8.17313790e-04\n     3.50111686e-02 -8.76413286e-03]\n   [ 2.58234330e-02  3.25860120e-02  2.96013020e-02 ...  2.03627907e-02\n    -3.45076621e-02  3.86407487e-02]\n   [ 1.29804388e-03 -1.60436612e-02  6.14752993e-03 ... -4.04726528e-02\n    -4.09867205e-02  2.43103839e-02]]\n\n  ...\n\n  [[-1.12168863e-02  3.06837149e-02  7.22778961e-03 ... -5.73856384e-03\n     1.55109912e-02  3.02243270e-02]\n   [ 9.45914537e-04 -2.99362186e-02 -3.27135921e-02 ...  3.99608277e-02\n    -1.87837183e-02 -3.51193435e-02]\n   [ 3.54588665e-02 -4.01941687e-03  3.68787237e-02 ...  1.53372698e-02\n     1.27295032e-02 -1.81358848e-02]]\n\n  [[ 2.04951502e-02 -2.71374732e-02 -3.24954502e-02 ... -9.94953141e-03\n    -1.05573982e-03 -3.51177640e-02]\n   [ 3.57035957e-02 -3.34732570e-02 -9.27508250e-03 ... -3.43906432e-02\n     2.23262720e-02  4.01182212e-02]\n   [-3.05147339e-02  2.66471021e-02  3.30036767e-02 ... -2.41505634e-02\n     2.97549255e-02 -3.00408639e-02]]\n\n  [[-2.54690126e-02 -3.47987898e-02  4.77084890e-03 ...  5.33080474e-03\n     9.04976949e-03 -2.89990790e-02]\n   [-1.13434754e-02 -4.22489196e-02  1.72025375e-02 ... -3.22130173e-02\n    -2.49082427e-02  1.25473402e-02]\n   [-3.90576385e-02 -2.86155567e-02  5.30124456e-03 ... -2.33583320e-02\n    -1.69300511e-02 -1.87232662e-02]]]\n\n\n [[[-2.27156654e-02 -2.10964959e-02 -2.41362639e-02 ... -2.76090205e-03\n     3.15282308e-02 -4.10150252e-02]\n   [ 3.06019001e-02 -1.95100047e-02  3.75898294e-02 ...  1.46863572e-02\n     3.05617340e-02 -3.64679545e-02]\n   [-1.68720968e-02 -3.25671434e-02  2.53312178e-02 ...  7.95937702e-03\n     3.00887711e-02  6.89656287e-03]]\n\n  [[ 2.39062868e-02 -1.07899532e-02 -2.29943991e-02 ...  2.95740254e-02\n     1.76686719e-02  1.66162103e-03]\n   [ 9.16595384e-03 -2.62157246e-02  2.38865875e-02 ... -3.25901806e-02\n    -3.92911211e-02  3.52575816e-02]\n   [-5.27305529e-03  3.00909840e-02  1.96143053e-02 ...  3.30985524e-02\n     3.39582525e-02 -2.30215527e-02]]\n\n  [[-4.18183990e-02  1.40292980e-02 -1.59101598e-02 ...  2.09412612e-02\n    -1.31636616e-02 -1.77273899e-03]\n   [-3.82950604e-02 -1.76061913e-02 -6.58004731e-03 ... -2.62747202e-02\n    -2.85997484e-02 -2.40338966e-03]\n   [-3.26892361e-03  1.45375468e-02  3.89362462e-02 ...  5.55979833e-03\n     3.86985280e-02  2.63840370e-02]]\n\n  ...\n\n  [[-3.95007059e-03 -4.12522145e-02 -2.87461840e-02 ...  4.08322103e-02\n     2.48821713e-02 -3.38481478e-02]\n   [ 2.21837424e-02  2.17489041e-02  3.88283320e-02 ... -3.42941582e-02\n     3.66174988e-02 -1.50366426e-02]\n   [ 6.23081997e-03 -1.39153264e-02 -2.81072669e-02 ...  2.89927833e-02\n     3.50770243e-02  2.46880315e-02]]\n\n  [[ 3.99476178e-02  3.72538455e-02 -8.28330219e-03 ...  4.23594229e-02\n    -2.62051355e-02 -1.27964355e-02]\n   [-3.45348455e-02 -4.14433442e-02  1.85748115e-02 ... -1.05689988e-02\n     2.93006040e-02  2.84979083e-02]\n   [ 2.43204199e-02 -2.02477574e-02  4.02010567e-02 ...  1.21998601e-02\n     3.79906185e-02 -3.15394253e-03]]\n\n  [[ 1.52934231e-02 -2.32221801e-02 -1.26771331e-02 ...  3.67753766e-02\n     3.30730863e-02 -6.26970083e-04]\n   [ 9.52759385e-03  3.04644965e-02 -4.81162965e-03 ...  1.03147179e-02\n    -4.26745079e-02 -1.09023750e-02]\n   [ 1.89933181e-02  8.39952752e-03  3.49118374e-02 ...  8.48520547e-03\n    -3.52713764e-02  3.53231318e-02]]]\n\n\n [[[-4.24292050e-02 -3.30302119e-02  3.52329873e-02 ...  1.53819770e-02\n    -8.73281434e-03  9.23665985e-03]\n   [ 1.57622173e-02  3.85383256e-02 -1.86526626e-02 ... -1.94280986e-02\n    -1.27243754e-02 -1.07779875e-02]\n   [ 3.54744978e-02  1.32290162e-02 -1.21765696e-02 ... -4.15335372e-02\n    -2.65699141e-02 -2.57902592e-03]]\n\n  [[-1.26381572e-02 -3.24754119e-02 -1.39314216e-02 ... -2.41049118e-02\n    -3.08080316e-02  2.82638036e-02]\n   [ 2.72401087e-02  2.04092450e-02  3.85040082e-02 ...  8.74133408e-03\n     6.18151203e-03  2.96073370e-02]\n   [-7.55787268e-03  3.88075151e-02  3.35577875e-04 ... -1.35030206e-02\n     3.63663770e-02 -1.33306440e-02]]\n\n  [[ 1.73151642e-02 -5.09618223e-03 -2.97499504e-02 ... -1.59531515e-02\n    -1.45607665e-02 -7.60154799e-03]\n   [-5.69291413e-03  3.24270613e-02 -3.04242149e-02 ...  3.25621776e-02\n     4.25282679e-02  8.66442174e-03]\n   [-2.18488853e-02 -4.04928438e-02 -2.80575491e-02 ...  1.60427429e-02\n    -3.59186307e-02  8.39656219e-03]]\n\n  ...\n\n  [[ 2.23574825e-02 -4.05911617e-02  4.07844521e-02 ...  2.97055207e-02\n     4.61977720e-03  2.17642598e-02]\n   [-2.58736312e-04 -1.46424901e-02 -2.00253371e-02 ... -1.85373966e-02\n     3.95405777e-02  3.03150453e-02]\n   [ 3.41569521e-02 -1.93910375e-02  2.67010890e-02 ... -2.82947179e-02\n     2.31299214e-02 -3.75873931e-02]]\n\n  [[ 1.59069784e-02 -3.96210700e-03  1.53863803e-03 ... -2.26591583e-02\n     3.11968289e-02 -2.29699276e-02]\n   [ 3.93708162e-02 -3.10970005e-02  1.82911046e-02 ...  7.74811581e-03\n    -4.11016643e-02  2.07956247e-02]\n   [-1.75503362e-02 -3.15751284e-02 -6.91567734e-03 ...  1.91673115e-02\n     5.06322831e-04  2.85868235e-02]]\n\n  [[-3.68974358e-02  6.61145151e-03 -3.42374705e-02 ... -3.80824320e-02\n     2.60422118e-02 -2.95185912e-02]\n   [-3.90497521e-02 -2.91840322e-02  3.33755091e-03 ... -1.30884200e-02\n    -1.77140683e-02  2.28662416e-03]\n   [-3.74290347e-02  4.94141132e-03  3.47491391e-02 ...  3.68874557e-02\n     5.12930006e-03  3.75892930e-02]]]]>, <Variable path=conv1/bias, shape=(64,), dtype=float32, value=[0. 0. 0. 0. 0. 0. 0. 0. 0. 0. 0. 0. 0. 0. 0. 0. 0. 0. 0. 0. 0. 0. 0. 0.\n 0. 0. 0. 0. 0. 0. 0. 0. 0. 0. 0. 0. 0. 0. 0. 0. 0. 0. 0. 0. 0. 0. 0. 0.\n 0. 0. 0. 0. 0. 0. 0. 0. 0. 0. 0. 0. 0. 0. 0. 0.]>]",
          "traceback": [
            "\u001b[0;31m---------------------------------------------------------------------------\u001b[0m",
            "\u001b[0;31mNotImplementedError\u001b[0m                       Traceback (most recent call last)",
            "\u001b[0;32m<ipython-input-18-e93303bcc50d>\u001b[0m in \u001b[0;36m<cell line: 0>\u001b[0;34m()\u001b[0m\n\u001b[1;32m     10\u001b[0m \u001b[0;31m# Load weights trained on MS-COCO\u001b[0m\u001b[0;34m\u001b[0m\u001b[0;34m\u001b[0m\u001b[0m\n\u001b[1;32m     11\u001b[0m \u001b[0;31m# model.load_weights(COCO_MODEL_PATH, by_name=True) # Commented out the original line causing the error\u001b[0m\u001b[0;34m\u001b[0m\u001b[0;34m\u001b[0m\u001b[0m\n\u001b[0;32m---> 12\u001b[0;31m \u001b[0mmodel\u001b[0m\u001b[0;34m.\u001b[0m\u001b[0mload_weights\u001b[0m\u001b[0;34m(\u001b[0m\u001b[0;34m'/content/Mask-RCNN-TF2/mask_rcnn_coco.h5'\u001b[0m\u001b[0;34m,\u001b[0m \u001b[0mby_name\u001b[0m\u001b[0;34m=\u001b[0m\u001b[0;32mTrue\u001b[0m\u001b[0;34m)\u001b[0m \u001b[0;31m# Added save_format='tf' to the load_weights function call\u001b[0m\u001b[0;34m\u001b[0m\u001b[0;34m\u001b[0m\u001b[0m\n\u001b[0m",
            "\u001b[0;32m/content/drive/MyDrive/Colab Notebooks/Mask-RCNN-TF2/mrcnn/model.py\u001b[0m in \u001b[0;36mload_weights\u001b[0;34m(self, filepath, by_name, exclude)\u001b[0m\n\u001b[1;32m   2153\u001b[0m \u001b[0;34m\u001b[0m\u001b[0m\n\u001b[1;32m   2154\u001b[0m             \u001b[0;32mif\u001b[0m \u001b[0mby_name\u001b[0m\u001b[0;34m:\u001b[0m\u001b[0;34m\u001b[0m\u001b[0;34m\u001b[0m\u001b[0m\n\u001b[0;32m-> 2155\u001b[0;31m                 \u001b[0mhdf5_format\u001b[0m\u001b[0;34m.\u001b[0m\u001b[0mload_weights_from_hdf5_group_by_name\u001b[0m\u001b[0;34m(\u001b[0m\u001b[0mf\u001b[0m\u001b[0;34m,\u001b[0m \u001b[0mlayers\u001b[0m\u001b[0;34m)\u001b[0m\u001b[0;34m\u001b[0m\u001b[0;34m\u001b[0m\u001b[0m\n\u001b[0m\u001b[1;32m   2156\u001b[0m             \u001b[0;32melse\u001b[0m\u001b[0;34m:\u001b[0m\u001b[0;34m\u001b[0m\u001b[0;34m\u001b[0m\u001b[0m\n\u001b[1;32m   2157\u001b[0m                 \u001b[0mhdf5_format\u001b[0m\u001b[0;34m.\u001b[0m\u001b[0mload_weights_from_hdf5_group\u001b[0m\u001b[0;34m(\u001b[0m\u001b[0mf\u001b[0m\u001b[0;34m,\u001b[0m \u001b[0mlayers\u001b[0m\u001b[0;34m)\u001b[0m\u001b[0;34m\u001b[0m\u001b[0;34m\u001b[0m\u001b[0m\n",
            "\u001b[0;32m/usr/local/lib/python3.11/dist-packages/tensorflow/python/keras/saving/hdf5_format.py\u001b[0m in \u001b[0;36mload_weights_from_hdf5_group_by_name\u001b[0;34m(f, layers, skip_mismatch)\u001b[0m\n\u001b[1;32m    764\u001b[0m \u001b[0;34m\u001b[0m\u001b[0m\n\u001b[1;32m    765\u001b[0m     \u001b[0;32mfor\u001b[0m \u001b[0mlayer\u001b[0m \u001b[0;32min\u001b[0m \u001b[0mindex\u001b[0m\u001b[0;34m.\u001b[0m\u001b[0mget\u001b[0m\u001b[0;34m(\u001b[0m\u001b[0mname\u001b[0m\u001b[0;34m,\u001b[0m \u001b[0;34m[\u001b[0m\u001b[0;34m]\u001b[0m\u001b[0;34m)\u001b[0m\u001b[0;34m:\u001b[0m\u001b[0;34m\u001b[0m\u001b[0;34m\u001b[0m\u001b[0m\n\u001b[0;32m--> 766\u001b[0;31m       \u001b[0msymbolic_weights\u001b[0m \u001b[0;34m=\u001b[0m \u001b[0m_legacy_weights\u001b[0m\u001b[0;34m(\u001b[0m\u001b[0mlayer\u001b[0m\u001b[0;34m)\u001b[0m\u001b[0;34m\u001b[0m\u001b[0;34m\u001b[0m\u001b[0m\n\u001b[0m\u001b[1;32m    767\u001b[0m       weight_values = preprocess_weights_for_loading(\n\u001b[1;32m    768\u001b[0m           layer, weight_values, original_keras_version, original_backend)\n",
            "\u001b[0;32m/usr/local/lib/python3.11/dist-packages/tensorflow/python/keras/saving/hdf5_format.py\u001b[0m in \u001b[0;36m_legacy_weights\u001b[0;34m(layer)\u001b[0m\n\u001b[1;32m    893\u001b[0m   \u001b[0mweights\u001b[0m \u001b[0;34m=\u001b[0m \u001b[0mlayer\u001b[0m\u001b[0;34m.\u001b[0m\u001b[0mtrainable_weights\u001b[0m \u001b[0;34m+\u001b[0m \u001b[0mlayer\u001b[0m\u001b[0;34m.\u001b[0m\u001b[0mnon_trainable_weights\u001b[0m\u001b[0;34m\u001b[0m\u001b[0;34m\u001b[0m\u001b[0m\n\u001b[1;32m    894\u001b[0m   \u001b[0;32mif\u001b[0m \u001b[0many\u001b[0m\u001b[0;34m(\u001b[0m\u001b[0;32mnot\u001b[0m \u001b[0misinstance\u001b[0m\u001b[0;34m(\u001b[0m\u001b[0mw\u001b[0m\u001b[0;34m,\u001b[0m \u001b[0mvariables_module\u001b[0m\u001b[0;34m.\u001b[0m\u001b[0mVariable\u001b[0m\u001b[0;34m)\u001b[0m \u001b[0;32mfor\u001b[0m \u001b[0mw\u001b[0m \u001b[0;32min\u001b[0m \u001b[0mweights\u001b[0m\u001b[0;34m)\u001b[0m\u001b[0;34m:\u001b[0m\u001b[0;34m\u001b[0m\u001b[0;34m\u001b[0m\u001b[0m\n\u001b[0;32m--> 895\u001b[0;31m     raise NotImplementedError(\n\u001b[0m\u001b[1;32m    896\u001b[0m         \u001b[0;34m'Save or restore weights that is not an instance of `tf.Variable` is '\u001b[0m\u001b[0;34m\u001b[0m\u001b[0;34m\u001b[0m\u001b[0m\n\u001b[1;32m    897\u001b[0m         \u001b[0;34m'not supported in h5, use `save_format=\\'tf\\'` instead. Got a model '\u001b[0m\u001b[0;34m\u001b[0m\u001b[0;34m\u001b[0m\u001b[0m\n",
            "\u001b[0;31mNotImplementedError\u001b[0m: Save or restore weights that is not an instance of `tf.Variable` is not supported in h5, use `save_format='tf'` instead. Got a model or layer Conv2D with weights [<Variable path=conv1/kernel, shape=(7, 7, 3, 64), dtype=float32, value=[[[[-3.62043530e-02 -3.96408327e-02 -1.89774260e-02 ... -2.21230742e-02\n     3.08965556e-02  1.84372254e-02]\n   [ 3.83923240e-02 -6.49132207e-03  2.48639397e-02 ...  1.10419914e-02\n    -3.83694954e-02  4.10163514e-02]\n   [-2.45336276e-02 -3.18171605e-02 -7.34064728e-04 ... -2.46968102e-02\n     2.70892642e-02 -2.91664004e-02]]\n\n  [[ 6.76283985e-03  3.44421528e-02 -2.24368293e-02 ...  6.72259927e-03\n     9.98533890e-03 -1.75023694e-02]\n   [-1.56424437e-02  1.10537745e-02  3.91639583e-02 ... -1.85549278e-02\n     3.43748368e-02 -8.09661672e-03]\n   [-1.95786357e-04 -7.76237622e-03  3.26079242e-02 ...  1.27446875e-02\n    -9.40914452e-03 -4.23761830e-03]]\n\n  [[-1.95058063e-02 -8.15305486e-03  3.33033390e-02 ... -4.09589261e-02\n    -1.56765077e-02  3.89881432e-04]\n   [ 2.13601030e-02  2.75192820e-02  1.02213956e-02 ...  1.67290568e-02\n     2.26449631e-02  4.29405645e-03]\n   [-1.05814859e-02  3.73267196e-02 -1.92711037e-02 ...  1.10196620e-02\n    -7.66602531e-03 -3.83530222e-02]]\n\n  ...\n\n  [[ 1.11721605e-02  2.76119448e-02  5.21575287e-03 ...  3.39099877e-02\n     5.84012270e-03  3.00908200e-02]\n   [-2.30397247e-02  1.09078996e-02 -2.17114091e-02 ...  9.96946916e-03\n     4.99988347e-03  4.09114845e-02]\n   [-1.26983430e-02  3.98095064e-02 -2.90566571e-02 ...  1.86529495e-02\n     2.03736238e-02 -2.13160627e-02]]\n\n  [[-3.89121734e-02 -1.56821534e-02  3.93518545e-02 ... -3.96436825e-03\n     3.62141393e-02  1.42666325e-03]\n   [ 4.97177243e-05  2.70799883e-02  2.27449574e-02 ... -2.79628821e-02\n     1.28867105e-02  1.29249319e-02]\n   [ 8.08647648e-03  3.78893279e-02 -3.32952365e-02 ...  1.86176524e-02\n     5.05287573e-03 -1.86397601e-02]]\n\n  [[ 4.24040817e-02 -3.16244103e-02 -1.70767419e-02 ...  2.51873024e-02\n    -2.22404301e-03  5.48414886e-03]\n   [ 3.66758071e-02 -3.54670212e-02 -1.58341248e-02 ... -1.78717244e-02\n    -4.20567282e-02 -1.67361293e-02]\n   [ 1.75273120e-02  3.09404843e-02  4.25419770e-02 ... -1.42190829e-02\n     3.85582708e-02  2.04752646e-02]]]\n\n\n [[[-1.96556970e-02  3.93096171e-02 -5.44932112e-03 ... -7.08839670e-03\n    -2.59930603e-02  2.99764685e-02]\n   [ 9.62510332e-03  1.88001581e-02 -1.45111792e-02 ... -3.14046517e-02\n    -2.63168961e-02  2.07622163e-02]\n   [ 2.47194059e-02  3.51999365e-02  1.96308270e-03 ...  4.04345728e-02\n    -3.62677425e-02 -4.51834127e-03]]\n\n  [[ 1.52090490e-02  2.81039067e-02  1.66311860e-03 ...  3.84962298e-02\n    -2.22311243e-02  7.61494040e-03]\n   [ 3.51033621e-02  3.48149948e-02  1.22629516e-02 ...  1.75594985e-02\n    -1.79722328e-02  1.07789338e-02]\n   [-1.09658241e-02  3.77079137e-02 -2.43530776e-02 ... -4.77548689e-03\n    -1.79974809e-02  4.12147902e-02]]\n\n  [[-4.23453003e-03  3.72520089e-03  8.03964213e-03 ...  4.11858037e-03\n    -3.02951261e-02  2.11139582e-02]\n   [-3.29389572e-02 -1.85177103e-03  2.09593587e-02 ... -2.59691477e-02\n     6.86833262e-03  2.81998999e-02]\n   [-5.40984794e-03  5.45472652e-03  4.10269238e-02 ... -1.14942640e-02\n    -2.65467782e-02 -4.05268669e-02]]\n\n  ...\n\n  [[ 1.09457560e-02  2.51381658e-02  2.96088681e-03 ... -4.45984676e-03\n    -6.29872456e-03 -2.34115887e-02]\n   [-3.69856507e-02  2.04754286e-02 -1.94174368e-02 ... -2.42848396e-02\n    -2.67726835e-02  5.24576008e-03]\n   [ 3.09940688e-02 -1.66103840e-02 -4.79317084e-03 ...  2.74447687e-02\n    -1.84490178e-02 -3.53517234e-02]]\n\n  [[ 3.65827270e-02 -2.51799133e-02  4.18144055e-02 ...  2.54985280e-02\n     4.13933508e-02 -3.17037068e-02]\n   [-3.13537195e-03  3.55726667e-02 -1.97612606e-02 ...  2.52808817e-02\n     3.92463021e-02 -3.24160531e-02]\n   [-1.99007336e-02 -7.39179552e-04  3.64942066e-02 ... -4.13406566e-02\n     3.87365259e-02  3.79320718e-02]]\n\n  [[ 3.82874645e-02 -1.85768921e-02 -2.89776661e-02 ... -4.27060910e-02\n     2.97709554e-03  3.01843621e-02]\n   [ 6.77426532e-03  2.36726664e-02  3.89671810e-02 ...  3.64967249e-02\n    -8.20189714e-03 -2.37644222e-02]\n   [-9.32880864e-03  1.59228183e-02  1.81068368e-02 ... -3.27875055e-02\n    -6.04587793e-03 -8.11823457e-03]]]\n\n\n [[[-2.39207596e-03  1.11584924e-02 -1.23152379e-02 ...  1.33863688e-02\n     1.52964890e-03  2.15704255e-02]\n   [ 4.09353338e-02 -3.21953110e-02  1.98851116e-02 ...  2.26832926e-03\n     1.62528120e-02  3.09349410e-02]\n   [-4.94072959e-03  2.48671435e-02  4.14164774e-02 ... -1.17197931e-02\n     2.73084305e-02 -8.56071711e-06]]\n\n  [[ 3.37220170e-02  1.79686397e-03 -7.75283575e-03 ... -1.76721253e-02\n    -9.22969729e-03  2.69113295e-02]\n   [-1.22416895e-02  2.14917473e-02  2.19850987e-03 ...  3.22860889e-02\n     1.42515562e-02  2.52271183e-02]\n   [ 1.36318430e-02 -2.93993186e-02 -3.53946649e-02 ... -1.25177018e-02\n     9.60165262e-03 -1.61675364e-03]]\n\n  [[ 3.73754650e-03  2.19541229e-02  1.98673457e-04 ...  3.17514725e-02\n     1.79487094e-02  1.30859427e-02]\n   [ 1.37959830e-02 -3.81649211e-02 -2.85809636e-02 ... -4.08071801e-02\n    -3.83215100e-02 -3.38380411e-03]\n   [-9.22523066e-03  2.38390826e-02  2.49765068e-03 ...  3.46318595e-02\n     2.98016146e-03  2.79288553e-02]]\n\n  ...\n\n  [[ 6.84775412e-03 -1.59575660e-02 -5.05621731e-03 ...  7.69544020e-03\n     1.88931152e-02  3.31252031e-02]\n   [ 4.24015485e-02  2.47431360e-02  1.19952857e-02 ... -3.48497741e-02\n     1.42469816e-02 -9.13411379e-04]\n   [ 2.26945058e-03 -1.98084861e-03  2.59662457e-02 ... -2.52003595e-02\n    -2.77186278e-02 -3.11002508e-03]]\n\n  [[ 3.42022069e-02 -1.98924374e-02 -1.25876125e-02 ... -3.79639342e-02\n    -3.33851129e-02  3.25022452e-02]\n   [ 1.71772614e-02  2.15119310e-02  3.35188545e-02 ... -2.69376803e-02\n     9.05054435e-03  7.73192197e-03]\n   [-2.38358192e-02  4.24433537e-02  4.10456546e-02 ... -3.31048481e-02\n     1.84838660e-02  3.46029215e-02]]\n\n  [[-1.31532960e-02  4.25444581e-02 -5.99635392e-03 ... -2.72619016e-02\n    -2.10671518e-02  2.03298368e-02]\n   [-3.85300443e-03  2.79044472e-02 -2.75812857e-02 ...  2.46440731e-02\n     3.63824405e-02 -3.52970697e-02]\n   [-3.98917124e-02 -2.83824038e-02 -4.93663177e-03 ...  3.65928002e-02\n    -1.50473863e-02  1.64878815e-02]]]\n\n\n ...\n\n\n [[[ 2.26881765e-02  3.33379395e-02  1.42986774e-02 ... -3.35581601e-03\n    -8.57387111e-03 -2.44939178e-02]\n   [ 2.48700380e-05  2.16692314e-03  7.99874961e-03 ... -4.21238989e-02\n    -2.05442775e-02 -9.77613032e-04]\n   [-3.49917337e-02 -3.20329964e-02 -9.85175371e-04 ... -2.12266333e-02\n    -2.27589626e-02  2.31404267e-02]]\n\n  [[ 3.12223770e-02 -1.96839496e-03 -3.59449983e-02 ...  1.73510201e-02\n    -3.89108062e-02 -4.09898087e-02]\n   [ 2.70009153e-02 -3.52103338e-02 -3.39223780e-02 ... -1.73980296e-02\n    -2.35423986e-02 -3.77591252e-02]\n   [ 3.19663063e-03 -9.33615863e-03 -4.11243625e-02 ... -2.04762835e-02\n    -3.22509557e-04  3.74416895e-02]]\n\n  [[ 1.11466795e-02  1.46212094e-02 -4.07962240e-02 ... -8.17313790e-04\n     3.50111686e-02 -8.76413286e-03]\n   [ 2.58234330e-02  3.25860120e-02  2.96013020e-02 ...  2.03627907e-02\n    -3.45076621e-02  3.86407487e-02]\n   [ 1.29804388e-03 -1.60436612e-02  6.14752993e-03 ... -4.04726528e-02\n    -4.09867205e-02  2.43103839e-02]]\n\n  ...\n\n  [[-1.12168863e-02  3.06837149e-02  7.22778961e-03 ... -5.73856384e-03\n     1.55109912e-02  3.02243270e-02]\n   [ 9.45914537e-04 -2.99362186e-02 -3.27135921e-02 ...  3.99608277e-02\n    -1.87837183e-02 -3.51193435e-02]\n   [ 3.54588665e-02 -4.01941687e-03  3.68787237e-02 ...  1.53372698e-02\n     1.27295032e-02 -1.81358848e-02]]\n\n  [[ 2.04951502e-02 -2.71374732e-02 -3.24954502e-02 ... -9.94953141e-03\n    -1.05573982e-03 -3.51177640e-02]\n   [ 3.57035957e-02 -3.34732570e-02 -9.27508250e-03 ... -3.43906432e-02\n     2.23262720e-02  4.01182212e-02]\n   [-3.05147339e-02  2.66471021e-02  3.30036767e-02 ... -2.41505634e-02\n     2.97549255e-02 -3.00408639e-02]]\n\n  [[-2.54690126e-02 -3.47987898e-02  4.77084890e-03 ...  5.33080474e-03\n     9.04976949e-03 -2.89990790e-02]\n   [-1.13434754e-02 -4.22489196e-02  1.72025375e-02 ... -3.22130173e-02\n    -2.49082427e-02  1.25473402e-02]\n   [-3.90576385e-02 -2.86155567e-02  5.30124456e-03 ... -2.33583320e-02\n    -1.69300511e-02 -1.87232662e-02]]]\n\n\n [[[-2.27156654e-02 -2.10964959e-02 -2.41362639e-02 ... -2.76090205e-03\n     3.15282308e-02 -4.10150252e-02]\n   [ 3.06019001e-02 -1.95100047e-02  3.75898294e-02 ...  1.46863572e-02\n     3.05617340e-02 -3.64679545e-02]\n   [-1.68720968e-02 -3.25671434e-02  2.53312178e-02 ...  7.95937702e-03\n     3.00887711e-02  6.89656287e-03]]\n\n  [[ 2.39062868e-02 -1.07899532e-02 -2.29943991e-02 ...  2.95740254e-02\n     1.76686719e-02  1.66162103e-03]\n   [ 9.16595384e-03 -2.62157246e-02  2.38865875e-02 ... -3.25901806e-02\n    -3.92911211e-02  3.52575816e-02]\n   [-5.27305529e-03  3.00909840e-02  1.96143053e-02 ...  3.30985524e-02\n     3.39582525e-02 -2.30215527e-02]]\n\n  [[-4.18183990e-02  1.40292980e-02 -1.59101598e-02 ...  2.09412612e-02\n    -1.31636616e-02 -1.77273899e-03]\n   [-3.82950604e-02 -1.76061913e-02 -6.58004731e-03 ... -2.62747202e-02\n    -2.85997484e-02 -2.40338966e-03]\n   [-3.26892361e-03  1.45375468e-02  3.89362462e-02 ...  5.55979833e-03\n     3.86985280e-02  2.63840370e-02]]\n\n  ...\n\n  [[-3.95007059e-03 -4.12522145e-02 -2.87461840e-02 ...  4.08322103e-02\n     2.48821713e-02 -3.38481478e-02]\n   [ 2.21837424e-02  2.17489041e-02  3.88283320e-02 ... -3.42941582e-02\n     3.66174988e-02 -1.50366426e-02]\n   [ 6.23081997e-03 -1.39153264e-02 -2.81072669e-02 ...  2.89927833e-02\n     3.50770243e-02  2.46880315e-02]]\n\n  [[ 3.99476178e-02  3.72538455e-02 -8.28330219e-03 ...  4.23594229e-02\n    -2.62051355e-02 -1.27964355e-02]\n   [-3.45348455e-02 -4.14433442e-02  1.85748115e-02 ... -1.05689988e-02\n     2.93006040e-02  2.84979083e-02]\n   [ 2.43204199e-02 -2.02477574e-02  4.02010567e-02 ...  1.21998601e-02\n     3.79906185e-02 -3.15394253e-03]]\n\n  [[ 1.52934231e-02 -2.32221801e-02 -1.26771331e-02 ...  3.67753766e-02\n     3.30730863e-02 -6.26970083e-04]\n   [ 9.52759385e-03  3.04644965e-02 -4.81162965e-03 ...  1.03147179e-02\n    -4.26745079e-02 -1.09023750e-02]\n   [ 1.89933181e-02  8.39952752e-03  3.49118374e-02 ...  8.48520547e-03\n    -3.52713764e-02  3.53231318e-02]]]\n\n\n [[[-4.24292050e-02 -3.30302119e-02  3.52329873e-02 ...  1.53819770e-02\n    -8.73281434e-03  9.23665985e-03]\n   [ 1.57622173e-02  3.85383256e-02 -1.86526626e-02 ... -1.94280986e-02\n    -1.27243754e-02 -1.07779875e-02]\n   [ 3.54744978e-02  1.32290162e-02 -1.21765696e-02 ... -4.15335372e-02\n    -2.65699141e-02 -2.57902592e-03]]\n\n  [[-1.26381572e-02 -3.24754119e-02 -1.39314216e-02 ... -2.41049118e-02\n    -3.08080316e-02  2.82638036e-02]\n   [ 2.72401087e-02  2.04092450e-02  3.85040082e-02 ...  8.74133408e-03\n     6.18151203e-03  2.96073370e-02]\n   [-7.55787268e-03  3.88075151e-02  3.35577875e-04 ... -1.35030206e-02\n     3.63663770e-02 -1.33306440e-02]]\n\n  [[ 1.73151642e-02 -5.09618223e-03 -2.97499504e-02 ... -1.59531515e-02\n    -1.45607665e-02 -7.60154799e-03]\n   [-5.69291413e-03  3.24270613e-02 -3.04242149e-02 ...  3.25621776e-02\n     4.25282679e-02  8.66442174e-03]\n   [-2.18488853e-02 -4.04928438e-02 -2.80575491e-02 ...  1.60427429e-02\n    -3.59186307e-02  8.39656219e-03]]\n\n  ...\n\n  [[ 2.23574825e-02 -4.05911617e-02  4.07844521e-02 ...  2.97055207e-02\n     4.61977720e-03  2.17642598e-02]\n   [-2.58736312e-04 -1.46424901e-02 -2.00253371e-02 ... -1.85373966e-02\n     3.95405777e-02  3.03150453e-02]\n   [ 3.41569521e-02 -1.93910375e-02  2.67010890e-02 ... -2.82947179e-02\n     2.31299214e-02 -3.75873931e-02]]\n\n  [[ 1.59069784e-02 -3.96210700e-03  1.53863803e-03 ... -2.26591583e-02\n     3.11968289e-02 -2.29699276e-02]\n   [ 3.93708162e-02 -3.10970005e-02  1.82911046e-02 ...  7.74811581e-03\n    -4.11016643e-02  2.07956247e-02]\n   [-1.75503362e-02 -3.15751284e-02 -6.91567734e-03 ...  1.91673115e-02\n     5.06322831e-04  2.85868235e-02]]\n\n  [[-3.68974358e-02  6.61145151e-03 -3.42374705e-02 ... -3.80824320e-02\n     2.60422118e-02 -2.95185912e-02]\n   [-3.90497521e-02 -2.91840322e-02  3.33755091e-03 ... -1.30884200e-02\n    -1.77140683e-02  2.28662416e-03]\n   [-3.74290347e-02  4.94141132e-03  3.47491391e-02 ...  3.68874557e-02\n     5.12930006e-03  3.75892930e-02]]]]>, <Variable path=conv1/bias, shape=(64,), dtype=float32, value=[0. 0. 0. 0. 0. 0. 0. 0. 0. 0. 0. 0. 0. 0. 0. 0. 0. 0. 0. 0. 0. 0. 0. 0.\n 0. 0. 0. 0. 0. 0. 0. 0. 0. 0. 0. 0. 0. 0. 0. 0. 0. 0. 0. 0. 0. 0. 0. 0.\n 0. 0. 0. 0. 0. 0. 0. 0. 0. 0. 0. 0. 0. 0. 0. 0.]>]"
          ]
        }
      ],
      "source": [
        "# Create model object in inference mode.\n",
        "#model = modellib.MaskRCNN(mode=\"inference\", model_dir=MODEL_DIR, config=config)\n",
        "\n",
        "# Load weights trained on MS-COCO\n",
        "#model.load_weights('/content/Mask-RCNN-TF2/mask_rcnn_coco.h5', by_name=True)\n",
        "# Create model object in inference mode.\n",
        "#print(COCO_MODEL_PATH)\n",
        "#model = modellib.MaskRCNN(mode=\"inference\", model_dir=MODEL_DIR, config=config)\n",
        "\n",
        "# Load weights trained on MS-COCO\n",
        "# model.load_weights(COCO_MODEL_PATH, by_name=True) # Commented out the original line causing the error\n",
        "#model.load_weights('/content/Mask-RCNN-TF2/mask_rcnn_coco.h5', by_name=True) # Added save_format='tf' to the load_weights function call"
      ]
    },
    {
      "cell_type": "code",
      "source": [
        "print(COCO_MODEL_PATH)\n",
        "model = modellib.MaskRCNN(mode=\"inference\", model_dir=MODEL_DIR, config=config)\n",
        "# Instead of model.save, use keras_model.save to save the underlying Keras model\n",
        "#model.keras_model.save('/content/Mask-RCNN-TF2/mask_rcnn_coco.h5', save_format='tf')  # Saves in TensorFlow format\n",
        "#model.keras_model.save('/content/Mask-RCNN-TF2/mask_rcnn_coco.keras')  #.keras format\n",
        "# Saves in TensorFlow format\n",
        "# these are all diff wyas and formats to save your model\n",
        "model.keras_model.save(COCO_MODEL_PATH)#.h5 format"
      ],
      "metadata": {
        "colab": {
          "base_uri": "https://localhost:8080/"
        },
        "id": "DZQF_XwGxiAe",
        "outputId": "a028b7b0-7dce-417b-d40b-796933f83645"
      },
      "execution_count": 21,
      "outputs": [
        {
          "output_type": "stream",
          "name": "stdout",
          "text": [
            "/content/drive/MyDrive/Colab Notebooks/Mask-RCNN-TF2/mask_rcnn_coco.h5\n"
          ]
        },
        {
          "output_type": "stream",
          "name": "stderr",
          "text": [
            "WARNING:absl:You are saving your model as an HDF5 file via `model.save()` or `keras.saving.save_model(model)`. This file format is considered legacy. We recommend using instead the native Keras format, e.g. `model.save('my_model.keras')` or `keras.saving.save_model(model, 'my_model.keras')`. \n"
          ]
        }
      ]
    },
    {
      "cell_type": "code",
      "source": [
        "import os\n",
        "\n",
        "# Check if the model file exists\n",
        "if os.path.exists(COCO_MODEL_PATH):\n",
        "    print(f\"File saved successfully at: {COCO_MODEL_PATH}\")\n",
        "else:\n",
        "    print(f\"File not found at: {COCO_MODEL_PATH}\")\n"
      ],
      "metadata": {
        "colab": {
          "base_uri": "https://localhost:8080/"
        },
        "id": "1ADPoklo2rbQ",
        "outputId": "24cb6144-862b-410a-b6d4-f8cfd263ee89"
      },
      "execution_count": 30,
      "outputs": [
        {
          "output_type": "stream",
          "name": "stdout",
          "text": [
            "File saved successfully at: /content/drive/MyDrive/Colab Notebooks/Mask-RCNN-TF2/mask_rcnn_coco.h5\n"
          ]
        }
      ]
    },
    {
      "cell_type": "markdown",
      "metadata": {
        "id": "CSqNu27oml4p"
      },
      "source": [
        "## Class Names\n",
        "\n",
        "The model classifies objects and returns class IDs, which are integer value that identify each class. Some datasets assign integer values to their classes and some don't. For example, in the MS-COCO dataset, the 'person' class is 1 and 'teddy bear' is 88. The IDs are often sequential, but not always. The COCO dataset, for example, has classes associated with class IDs 70 and 72, but not 71.\n",
        "\n",
        "To improve consistency, and to support training on data from multiple sources at the same time, our ```Dataset``` class assigns it's own sequential integer IDs to each class. For example, if you load the COCO dataset using our ```Dataset``` class, the 'person' class would get class ID = 1 (just like COCO) and the 'teddy bear' class is 78 (different from COCO). Keep that in mind when mapping class IDs to class names.\n",
        "\n",
        "To get the list of class names, you'd load the dataset and then use the ```class_names``` property like this.\n",
        "```\n",
        "# Load COCO dataset\n",
        "dataset = coco.CocoDataset()\n",
        "dataset.load_coco(COCO_DIR, \"train\")\n",
        "dataset.prepare()\n",
        "\n",
        "# Print class names\n",
        "print(dataset.class_names)\n",
        "```\n",
        "\n",
        "We don't want to require you to download the COCO dataset just to run this demo, so we're including the list of class names below. The index of the class name in the list represent its ID (first class is 0, second is 1, third is 2, ...etc.)"
      ]
    },
    {
      "cell_type": "code",
      "execution_count": 22,
      "metadata": {
        "collapsed": true,
        "id": "J18poEYEml4s"
      },
      "outputs": [],
      "source": [
        "# COCO Class names\n",
        "# Index of the class in the list is its ID. For example, to get ID of\n",
        "# the teddy bear class, use: class_names.index('teddy bear')\n",
        "class_names = ['BG', 'person', 'bicycle', 'car', 'motorcycle', 'airplane',\n",
        "               'bus', 'train', 'truck', 'boat', 'traffic light',\n",
        "               'fire hydrant', 'stop sign', 'parking meter', 'bench', 'bird',\n",
        "               'cat', 'dog', 'horse', 'sheep', 'cow', 'elephant', 'bear',\n",
        "               'zebra', 'giraffe', 'backpack', 'umbrella', 'handbag', 'tie',\n",
        "               'suitcase', 'frisbee', 'skis', 'snowboard', 'sports ball',\n",
        "               'kite', 'baseball bat', 'baseball glove', 'skateboard',\n",
        "               'surfboard', 'tennis racket', 'bottle', 'wine glass', 'cup',\n",
        "               'fork', 'knife', 'spoon', 'bowl', 'banana', 'apple',\n",
        "               'sandwich', 'orange', 'broccoli', 'carrot', 'hot dog', 'pizza',\n",
        "               'donut', 'cake', 'chair', 'couch', 'potted plant', 'bed',\n",
        "               'dining table', 'toilet', 'tv', 'laptop', 'mouse', 'remote',\n",
        "               'keyboard', 'cell phone', 'microwave', 'oven', 'toaster',\n",
        "               'sink', 'refrigerator', 'book', 'clock', 'vase', 'scissors',\n",
        "               'teddy bear', 'hair drier', 'toothbrush']"
      ]
    },
    {
      "cell_type": "markdown",
      "metadata": {
        "id": "2EXLBzvIml4u"
      },
      "source": [
        "## Run Object Detection"
      ]
    },
    {
      "cell_type": "code",
      "execution_count": 25,
      "metadata": {
        "id": "_bJStkJ5ml4w",
        "scrolled": false,
        "colab": {
          "base_uri": "https://localhost:8080/",
          "height": 219
        },
        "outputId": "7775358f-1b3f-446e-d678-88c8ab263395"
      },
      "outputs": [
        {
          "output_type": "error",
          "ename": "StopIteration",
          "evalue": "",
          "traceback": [
            "\u001b[0;31m---------------------------------------------------------------------------\u001b[0m",
            "\u001b[0;31mStopIteration\u001b[0m                             Traceback (most recent call last)",
            "\u001b[0;32m<ipython-input-25-636ea57db5c6>\u001b[0m in \u001b[0;36m<cell line: 0>\u001b[0;34m()\u001b[0m\n\u001b[1;32m      1\u001b[0m \u001b[0;31m# Load a random image from the images folder\u001b[0m\u001b[0;34m\u001b[0m\u001b[0;34m\u001b[0m\u001b[0m\n\u001b[0;32m----> 2\u001b[0;31m \u001b[0mfile_names\u001b[0m \u001b[0;34m=\u001b[0m \u001b[0mnext\u001b[0m\u001b[0;34m(\u001b[0m\u001b[0mos\u001b[0m\u001b[0;34m.\u001b[0m\u001b[0mwalk\u001b[0m\u001b[0;34m(\u001b[0m\u001b[0mIMAGE_DIR\u001b[0m\u001b[0;34m)\u001b[0m\u001b[0;34m)\u001b[0m\u001b[0;34m[\u001b[0m\u001b[0;36m2\u001b[0m\u001b[0;34m]\u001b[0m\u001b[0;34m\u001b[0m\u001b[0;34m\u001b[0m\u001b[0m\n\u001b[0m\u001b[1;32m      3\u001b[0m \u001b[0mimage\u001b[0m \u001b[0;34m=\u001b[0m \u001b[0mskimage\u001b[0m\u001b[0;34m.\u001b[0m\u001b[0mio\u001b[0m\u001b[0;34m.\u001b[0m\u001b[0mimread\u001b[0m\u001b[0;34m(\u001b[0m\u001b[0mos\u001b[0m\u001b[0;34m.\u001b[0m\u001b[0mpath\u001b[0m\u001b[0;34m.\u001b[0m\u001b[0mjoin\u001b[0m\u001b[0;34m(\u001b[0m\u001b[0mIMAGE_DIR\u001b[0m\u001b[0;34m,\u001b[0m \u001b[0mrandom\u001b[0m\u001b[0;34m.\u001b[0m\u001b[0mchoice\u001b[0m\u001b[0;34m(\u001b[0m\u001b[0mfile_names\u001b[0m\u001b[0;34m)\u001b[0m\u001b[0;34m)\u001b[0m\u001b[0;34m)\u001b[0m\u001b[0;34m\u001b[0m\u001b[0;34m\u001b[0m\u001b[0m\n\u001b[1;32m      4\u001b[0m \u001b[0;34m\u001b[0m\u001b[0m\n\u001b[1;32m      5\u001b[0m \u001b[0;31m# Run detection\u001b[0m\u001b[0;34m\u001b[0m\u001b[0;34m\u001b[0m\u001b[0m\n",
            "\u001b[0;31mStopIteration\u001b[0m: "
          ]
        }
      ],
      "source": [
        "# Load a random image from the images folder\n",
        "file_names = next(os.walk(IMAGE_DIR))[2]\n",
        "image = skimage.io.imread(os.path.join(IMAGE_DIR, random.choice(file_names)))\n",
        "\n",
        "# Run detection\n",
        "results = model.detect([image], verbose=1)\n",
        "\n",
        "# Visualize results\n",
        "r = results[0]\n",
        "visualize.display_instances(image, r['rois'], r['masks'], r['class_ids'],\n",
        "                            class_names, r['scores'])"
      ]
    },
    {
      "cell_type": "code",
      "execution_count": 27,
      "metadata": {
        "collapsed": true,
        "id": "Zwcztt8Oml4x",
        "colab": {
          "base_uri": "https://localhost:8080/"
        },
        "outputId": "85f910f7-f38e-4f6a-96fd-4c12fba448f1"
      },
      "outputs": [
        {
          "output_type": "stream",
          "name": "stdout",
          "text": [
            "Error: No image files found in the directory.\n"
          ]
        }
      ],
      "source": [
        "import os\n",
        "import random\n",
        "import skimage.io\n",
        "import matplotlib\n",
        "import matplotlib.pyplot as plt\n",
        "from mrcnn import visualize\n",
        "\n",
        "# ... (other imports and code) ...\n",
        "\n",
        "# Load a random image from the images folder\n",
        "file_names = []\n",
        "for root, dirs, files in os.walk(IMAGE_DIR): # Use os.walk in a loop to handle empty directories\n",
        "    for file in files:\n",
        "        if file.lower().endswith(('.png', '.jpg', '.jpeg')): # Only consider image files\n",
        "            file_names.append(os.path.join(root, file))\n",
        "            print(1)\n",
        "\n",
        "if not file_names:  # Check if any image files were found\n",
        "    print(\"Error: No image files found in the directory.\")\n",
        "else:\n",
        "    image_path = random.choice(file_names) # Choose a random image file\n",
        "    image = skimage.io.imread(image_path)\n",
        "\n",
        "    # Run detection\n",
        "    results = model.detect([image], verbose=1)\n",
        "\n",
        "    # Visualize results\n",
        "    r = results[0]\n",
        "    visualize.display_instances(image, r['rois'], r['masks'], r['class_ids'],\n",
        "                                class_names, r['scores'])"
      ]
    },
    {
      "cell_type": "code",
      "source": [
        "import os\n",
        "import random\n",
        "import skimage.io\n",
        "import matplotlib\n",
        "import matplotlib.pyplot as plt\n",
        "from mrcnn import visualize\n",
        "import tensorflow as tf\n",
        "\n",
        "# ... (other imports and code) ...\n",
        "\n",
        "@tf.function(jit_compile=False)\n",
        "def custom_detect(images, verbose):\n",
        "    return model.detect(images, verbose)\n",
        "\n",
        "# Load a random image from the images folder\n",
        "file_names = []\n",
        "for root, dirs, files in os.walk(IMAGE_DIR):  # Use os.walk in a loop to handle empty directories\n",
        "    for file in files:\n",
        "        if file.lower().endswith(('.png', '.jpg', '.jpeg')):  # Only consider image files\n",
        "            file_names.append(os.path.join(root, file))\n",
        "            print(1)\n",
        "\n",
        "if not file_names:  # Check if any image files were found\n",
        "    print(\"Error: No image files found in the directory.\")\n",
        "else:\n",
        "    image_path = random.choice(file_names)  # Choose a random image file\n",
        "    image = skimage.io.imread(image_path)\n",
        "\n",
        "    # Run detection\n",
        "\n",
        "    # Create a custom function with tf.function and disable XLA for CropAndResize\n",
        "\n",
        "    # Call the custom function instead of model.detect\n",
        "    results = custom_detect([image], verbose=1)\n",
        "    # Visualize results\n",
        "    r = results[0]\n",
        "    visualize.display_instances(image, r['rois'], r['masks'], r['class_ids'],\n",
        "                                class_names, r['scores'])\n",
        "\n",
        ""
      ],
      "metadata": {
        "colab": {
          "base_uri": "https://localhost:8080/",
          "height": 400
        },
        "id": "fy-W_Mnh1YaM",
        "outputId": "6efd01d1-e335-433a-ea55-67100678c18f"
      },
      "execution_count": 1,
      "outputs": [
        {
          "output_type": "error",
          "ename": "ModuleNotFoundError",
          "evalue": "No module named 'mrcnn'",
          "traceback": [
            "\u001b[0;31m---------------------------------------------------------------------------\u001b[0m",
            "\u001b[0;31mModuleNotFoundError\u001b[0m                       Traceback (most recent call last)",
            "\u001b[0;32m<ipython-input-1-423ba8c73c59>\u001b[0m in \u001b[0;36m<cell line: 0>\u001b[0;34m()\u001b[0m\n\u001b[1;32m      4\u001b[0m \u001b[0;32mimport\u001b[0m \u001b[0mmatplotlib\u001b[0m\u001b[0;34m\u001b[0m\u001b[0;34m\u001b[0m\u001b[0m\n\u001b[1;32m      5\u001b[0m \u001b[0;32mimport\u001b[0m \u001b[0mmatplotlib\u001b[0m\u001b[0;34m.\u001b[0m\u001b[0mpyplot\u001b[0m \u001b[0;32mas\u001b[0m \u001b[0mplt\u001b[0m\u001b[0;34m\u001b[0m\u001b[0;34m\u001b[0m\u001b[0m\n\u001b[0;32m----> 6\u001b[0;31m \u001b[0;32mfrom\u001b[0m \u001b[0mmrcnn\u001b[0m \u001b[0;32mimport\u001b[0m \u001b[0mvisualize\u001b[0m\u001b[0;34m\u001b[0m\u001b[0;34m\u001b[0m\u001b[0m\n\u001b[0m\u001b[1;32m      7\u001b[0m \u001b[0;32mimport\u001b[0m \u001b[0mtensorflow\u001b[0m \u001b[0;32mas\u001b[0m \u001b[0mtf\u001b[0m\u001b[0;34m\u001b[0m\u001b[0;34m\u001b[0m\u001b[0m\n\u001b[1;32m      8\u001b[0m \u001b[0;34m\u001b[0m\u001b[0m\n",
            "\u001b[0;31mModuleNotFoundError\u001b[0m: No module named 'mrcnn'",
            "",
            "\u001b[0;31m---------------------------------------------------------------------------\u001b[0;32m\nNOTE: If your import is failing due to a missing package, you can\nmanually install dependencies using either !pip or !apt.\n\nTo view examples of installing some common dependencies, click the\n\"Open Examples\" button below.\n\u001b[0;31m---------------------------------------------------------------------------\u001b[0m\n"
          ],
          "errorDetails": {
            "actions": [
              {
                "action": "open_url",
                "actionText": "Open Examples",
                "url": "/notebooks/snippets/importing_libraries.ipynb"
              }
            ]
          }
        }
      ]
    },
    {
      "cell_type": "code",
      "source": [],
      "metadata": {
        "id": "XQp55I3C3NVk"
      },
      "execution_count": null,
      "outputs": []
    }
  ],
  "metadata": {
    "accelerator": "GPU",
    "colab": {
      "gpuType": "T4",
      "provenance": [],
      "include_colab_link": true
    },
    "kernelspec": {
      "display_name": "Python 3",
      "name": "python3"
    },
    "language_info": {
      "codemirror_mode": {
        "name": "ipython",
        "version": 3
      },
      "file_extension": ".py",
      "mimetype": "text/x-python",
      "name": "python",
      "nbconvert_exporter": "python",
      "pygments_lexer": "ipython3",
      "version": "3.5.2"
    }
  },
  "nbformat": 4,
  "nbformat_minor": 0
}